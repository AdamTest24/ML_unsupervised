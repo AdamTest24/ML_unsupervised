{
 "cells": [
  {
   "cell_type": "raw",
   "id": "ca149866",
   "metadata": {},
   "source": [
    "---\n",
    "title: \"Clustering Images\"\n",
    "teaching: 10\n",
    "exercises: 2\n",
    "---"
   ]
  },
  {
   "cell_type": "markdown",
   "id": "de31b390",
   "metadata": {},
   "source": [
    "\n",
    "[**Download Chapter notebook (ipynb)**](02-clustering-image.ipynb)\n",
    "\n",
    "[<span style=\"color: rgb(255, 0, 0);\">**Mandatory Lesson Feedback Survey**</span>](https://docs.google.com/forms/d/e/1FAIpQLSdr0capF7jloJhPH3Pki1B3LZoKOG16poOpuVJ7SL2LkwLHQA/viewform?pli=1)"
   ]
  },
  {
   "cell_type": "markdown",
   "id": "88c57e09",
   "metadata": {},
   "source": [
    ":::::::::::::::::::::::::::::::::::::: questions\n",
    "\n",
    "- What makes image data unique for machine learning?\n",
    "- How can MR images be clustered and segmented?\n",
    "- How can segmentation be improved?\n",
    "- How do we visualise clustered image data?\n",
    "\n",
    "::::::::::::::::::::::::::::::::::::::::::::::::\n",
    "\n",
    "::::::::::::::::::::::::::::::::::::: objectives\n",
    "- Learning to work with a domain-specific Python package.\n",
    "- Clustering with Gaussian Mixture Models (GMM) to segment a medical image.\n",
    "- Combining information from different imaging modalities for improved segmentation.\n",
    "- Understanding strategies to visualise clustered output.\n",
    "\n",
    "::::::::::::::::::::::::::::::::::::::::::::::::"
   ]
  },
  {
   "cell_type": "markdown",
   "id": "ef1d7980",
   "metadata": {},
   "source": [
    "<br>\n",
    "<p align = \"center\">\n",
    "<iframe width=\"560\" height=\"315\" src=\"https://www.youtube.com/embed/IuvEj39rM7k\" title=\"YouTube video player\" frameborder=\"0\" allow=\"accelerometer; autoplay; clipboard-write; encrypted-media; gyroscope; picture-in-picture\" allowfullscreen></iframe>\n",
    "</p>\n",
    "<br>\n",
    "<p align = \"center\">\n",
    "<iframe width=\"560\" height=\"315\" src=\"https://www.youtube.com/embed/6LaIhEdco8g\" title=\"YouTube video player\" frameborder=\"0\" allow=\"accelerometer; autoplay; clipboard-write; encrypted-media; gyroscope; picture-in-picture\" allowfullscreen></iframe>\n",
    "</p>\n",
    "<br>\n",
    "\n",
    ":::::::::::::::::: prereq\n",
    "- [Data Handling Images](https://learntodiscover.github.io/Data_Handling/03-image_handling.html)\n",
    "::::::::::::::::::\n",
    "\n",
    "## Concept\n",
    "\n",
    "### **Image Segmentation with Clustering**\n",
    "<p style='text-align: justify;'>\n",
    "Medical imaging techniques are a valuable tool for probing diseases and disorders non-invasively. Processing medical images often consists of an expert, such as a radiologist, looking at the images and identifying, labelling and characterising potential lesions. This process can be time-consuming and reliant on a well-trained expert's eye. To make medical imaging techniques feasible in circumstances where there may be insufficient time or resources for expert labelling, there is current research into using artificial intelligence to label images. There are many supervised learning techniques that utilise previously labelled data from experts to train a computer algorithm to recognise certain features of an image. However, this may require large amounts of data that were previously labelled, which again is not always available. An alternative approach is to use unsupervised learning strategies, such as clustering, to group images into different regions. The interpretation of these regions may be ambiguous, but with some previous knowledge, we may still use it to infer information from an image.\n",
    "</p>\n",
    "\n",
    "### **Medical Image Example**\n",
    "<p style='text-align: justify;'>\n",
    "The example used in this lesson is part of the National Cancer Institute’s Clinical Proteomic Tumor Analysis Consortium Glioblastoma Multiforme (CPTAC-GBM) cohort and is available at The Cancer Imaging Archive: https://wiki.cancerimagingarchive.net/display/Public/CPTAC-GBM. For each subject in this study, several different brain MRI scans were performed, each of which gives different contrast in the brain. Each subject has been diagnosed with glioblastoma, and a tumour is visible in the MRI scans. To analyse the images and to, for example, estimate the size of the tumour, we may wish to segment the brain into healthy tissue and tumour tissue. The figure below shows four images in the different modalities.\n",
    "</p>\n",
    "\n",
    "![Figure 1: Example image, different MRI modalities imaging glioblastoma](fig/brain_images.png)"
   ]
  },
  {
   "cell_type": "markdown",
   "id": "04f4fc54",
   "metadata": {},
   "source": [
    "## Work Through Example\n",
    "\n",
    "### **Code Preparation**\n",
    "<p style='text-align: justify;'>\n",
    "We first import the modules needed for this lesson. We use Numpy to store and process images and we use __nibabel__ to read the MRI images, which have a file type called 'nifti'. Nibabel is freely available for download here: https://nipy.org/nibabel/\n",
    "</p>"
   ]
  },
  {
   "cell_type": "code",
   "execution_count": null,
   "id": "c696f397",
   "metadata": {},
   "outputs": [],
   "source": [
    "from numpy import zeros, sum, stack\n",
    "import nibabel as nib\n",
    "from matplotlib.pyplot import subplots, tight_layout, show\n"
   ]
  },
  {
   "cell_type": "markdown",
   "id": "0f37dd76",
   "metadata": {},
   "source": [
    ":::::::::::::::::: callout\n",
    "## Note\n",
    "Note how we import the nibabel package as 'nib'. You can use any abbreviation to access the package's functions from within your programme.\n",
    "::::::::::::::::::\n",
    "\n",
    "To familiarise yourself with the nibabel package, try the [Getting started tutorial](https://nipy.org/nibabel/gettingstarted.html) using an example image file."
   ]
  },
  {
   "cell_type": "markdown",
   "id": "0973f562",
   "metadata": {},
   "source": [
    "### **Reading Images into Numpy Arrays**\n",
    "<p style='text-align: justify;'>\n",
    "Next, we want to use the nibabel package to read the MRI images into Numpy arrays. In this example, we use four different images that were acquired with different MRI protocols.\n",
    "</p>"
   ]
  },
  {
   "cell_type": "code",
   "execution_count": null,
   "id": "8b49ea40",
   "metadata": {},
   "outputs": [],
   "source": [
    "img_3d = nib.load('fig/t1.nii')\n",
    "img1 = img_3d.get_fdata()\n",
    "\n",
    "img_3d = nib.load('fig/t1_contrast.nii')\n",
    "img2 = img_3d.get_fdata()\n",
    "\n",
    "img_3d = nib.load('fig/flair.nii')\n",
    "img3 = img_3d.get_fdata()\n",
    "\n",
    "img_3d = nib.load('fig/adc.nii')\n",
    "img4 = img_3d.get_fdata()\n"
   ]
  },
  {
   "cell_type": "markdown",
   "id": "6aace523",
   "metadata": {},
   "source": [
    "Let's have a look at the data shape:\n"
   ]
  },
  {
   "cell_type": "code",
   "execution_count": null,
   "id": "67971557",
   "metadata": {
    "lines_to_next_cell": 0
   },
   "outputs": [],
   "source": [
    "print(img1.shape)\n"
   ]
  },
  {
   "cell_type": "markdown",
   "id": "dbb7fd33",
   "metadata": {},
   "source": [
    "<p style='text-align: justify;'>\n",
    "For plotting, we select a slice from the images. In this example we will view axial slices, i.e. slices from the last dimension. Thus, we choose a slice number between 0 and 31, here we go with slice 20 and plot it.\n",
    "</p>"
   ]
  },
  {
   "cell_type": "code",
   "execution_count": null,
   "id": "520e055a",
   "metadata": {
    "lines_to_next_cell": 2
   },
   "outputs": [],
   "source": [
    "img_slice = 20"
   ]
  },
  {
   "cell_type": "code",
   "execution_count": null,
   "id": "a652bc37",
   "metadata": {},
   "outputs": [],
   "source": [
    "fig, ax = subplots(nrows=1, ncols=4, figsize=(20, 10))\n",
    "\n",
    "ax[0].imshow(img1[:, :, img_slice], cmap='gray')\n",
    "ax[0].set_title(\"T1\", fontsize=16)\n",
    "ax[1].imshow(img2[:, :, img_slice], cmap='gray')\n",
    "ax[1].set_title(\"T1 with contrast agent\", fontsize=16)\n",
    "ax[2].imshow(img3[:, :, img_slice], cmap='gray')\n",
    "ax[2].set_title(\"FLAIR\", fontsize=16)\n",
    "ax[3].imshow(img4[:, :, img_slice], cmap='gray')\n",
    "ax[3].set_title(\"Apparent diffusion coefficient\", fontsize=16);\n",
    "\n",
    "show()"
   ]
  },
  {
   "cell_type": "markdown",
   "id": "95225c85",
   "metadata": {},
   "source": [
    "### **Data Pre-processing**\n",
    "\n",
    "To analyse the images, we need to do a bit of pre-processing. First of all, let us plot the histogram of the voxel (volume pixel) intensities.\n"
   ]
  },
  {
   "cell_type": "code",
   "execution_count": null,
   "id": "3aa6d07c",
   "metadata": {
    "results": "hold"
   },
   "outputs": [],
   "source": [
    "fig, ax = subplots(nrows=1, ncols=4, figsize=(20, 4))\n",
    "\n",
    "ax[0].hist(img1.flatten(), bins=50);\n",
    "ax[0].set_title(\"T1\", fontsize=16)\n",
    "ax[0].set_xlabel(\"Intensity\", fontsize=16)\n",
    "\n",
    "ax[1].hist(img2.flatten(), bins=50);\n",
    "ax[1].set_title(\"T1 with contrast agent\", fontsize=16)\n",
    "ax[1].set_xlabel(\"Intensity\", fontsize=16)\n",
    "\n",
    "ax[2].hist(img3.flatten(), bins=50);\n",
    "ax[2].set_title(\"FLAIR\", fontsize=16)\n",
    "ax[2].set_xlabel(\"Intensity\", fontsize=16)\n",
    "\n",
    "ax[3].hist(img4.flatten(), bins=50);\n",
    "ax[3].set_title(\"Apparent diffusion coefficient\", fontsize=16)\n",
    "ax[3].set_xlabel(\"Intensity\", fontsize=16)\n",
    "\n",
    "tight_layout()\n",
    "\n",
    "print('Number of voxels with intensity equal to 0 is: %d'%sum(img1==0))\n",
    "print('')\n",
    "\n",
    "show()"
   ]
  },
  {
   "cell_type": "markdown",
   "id": "8e150fa7",
   "metadata": {},
   "source": [
    "<p style='text-align: justify;'>\n",
    "As we can see from these histograms, a large number of the values are zero. This corresponds to the background voxels shown in black. We want to remove these voxels, as they are not useful for our analysis. For this, we create a binary mask and apply it to the images.\n",
    "</p>\n",
    "\n",
    ":::::::::::::::::: callout\n",
    "## Note\n",
    "Note the use of `tight_layout` in the cell above. It is a [Matplotlib function](https://matplotlib.org/3.1.1/api/_as_gen/matplotlib.pyplot.tight_layout.html) to pad between the figure edge and the edges of subplots. This can be useful to avoid overlap of figures and labels. The keyword parameter `pad` is set to 1.08 by default.\n",
    "::::::::::::::::::"
   ]
  },
  {
   "cell_type": "code",
   "execution_count": null,
   "id": "e4ddc25b",
   "metadata": {},
   "outputs": [],
   "source": [
    "mask = (img1>0) & (img2>0) & (img3>0) & (img4>0)\n",
    "\n",
    "img1_nz = img1[mask]\n",
    "img2_nz = img2[mask]\n",
    "img3_nz = img3[mask]\n",
    "img4_nz = img4[mask]\n"
   ]
  },
  {
   "cell_type": "markdown",
   "id": "30a7d38c",
   "metadata": {},
   "source": [
    "With the mask applied, let us plot the histograms of the non-zero voxels again:\n"
   ]
  },
  {
   "cell_type": "code",
   "execution_count": null,
   "id": "d86ed275",
   "metadata": {},
   "outputs": [],
   "source": [
    "fig, ax = subplots(1, 4, figsize=(20, 4))\n",
    "\n",
    "ax[0].hist(img1_nz, bins=50);\n",
    "ax[0].set_title(\"T1\", fontsize=16)\n",
    "ax[0].set_xlabel(\"Intensity\", fontsize=16)\n",
    "\n",
    "ax[1].hist(img2_nz, bins=50);\n",
    "ax[1].set_title(\"T1 with contrast agent\", fontsize=16)\n",
    "ax[1].set_xlabel(\"Intensity\", fontsize=16)\n",
    "\n",
    "ax[2].hist(img3_nz, bins=50);\n",
    "ax[2].set_title(\"FLAIR\", fontsize=16)\n",
    "ax[2].set_xlabel(\"Intensity\", fontsize=16)\n",
    "\n",
    "ax[3].hist(img4_nz, bins=50);\n",
    "ax[3].set_title(\"Apparent diffusion coefficient\", fontsize=16)\n",
    "ax[3].set_xlabel(\"Intensity\", fontsize=16)\n",
    "\n",
    "tight_layout()\n",
    "\n",
    "show()"
   ]
  },
  {
   "cell_type": "markdown",
   "id": "a022e032",
   "metadata": {},
   "source": [
    "We can see that the data is no longer confounded by the zero-valued background voxels. The distribution of relevant intensities now becomes apparent."
   ]
  },
  {
   "cell_type": "markdown",
   "id": "7c45dc47",
   "metadata": {},
   "source": [
    "### **Image scaling**\n",
    "<p style='text-align: justify;'>\n",
    "In many machine learning applications (both supervised and unsupervised) an additional step of data preparation consists in normalising or scaling, i.e. adjustment of the values under certain conditions. For example, the numbers in a data file are all positive and very large but the algorithms work best for numbers with mean zero and variance 1. In Scikit-learn this can be done by using `fit_transform` for an instance of the `StandardScaler`.\n",
    "</p>"
   ]
  },
  {
   "cell_type": "code",
   "execution_count": null,
   "id": "037d0a9f",
   "metadata": {},
   "outputs": [],
   "source": [
    "from sklearn.preprocessing import StandardScaler\n",
    "\n",
    "scaler = StandardScaler()\n",
    "\n",
    "img1_scaled = scaler.fit_transform(img1_nz.reshape(-1, 1))\n",
    "img2_scaled = scaler.fit_transform(img2_nz.reshape(-1, 1))\n",
    "img3_scaled = scaler.fit_transform(img3_nz.reshape(-1, 1))\n",
    "img4_scaled = scaler.fit_transform(img4_nz.reshape(-1, 1))\n",
    "\n",
    "fig, ax = subplots(1, 4, figsize=(20, 4))\n",
    "\n",
    "ax[0].hist(img1_scaled, bins=50);\n",
    "ax[0].set_title(\"T1\", fontsize=16)\n",
    "ax[0].set_xlabel(\"Intensity\", fontsize=16)\n",
    "\n",
    "ax[1].hist(img2_scaled, bins=50);\n",
    "ax[1].set_title(\"T1 with contrast agent\", fontsize=16)\n",
    "ax[1].set_xlabel(\"Intensity\", fontsize=16)\n",
    "\n",
    "ax[2].hist(img3_scaled, bins=50);\n",
    "ax[2].set_title(\"FLAIR\", fontsize=16)\n",
    "ax[2].set_xlabel(\"Intensity\", fontsize=16)\n",
    "\n",
    "ax[3].hist(img4_scaled, bins=50);\n",
    "ax[3].set_title(\"Apparent diffusion coefficient\", fontsize=16)\n",
    "ax[3].set_xlabel(\"Intensity\", fontsize=16)\n",
    "\n",
    "tight_layout()\n",
    "\n",
    "show()"
   ]
  },
  {
   "cell_type": "markdown",
   "id": "3fd65ecb",
   "metadata": {},
   "source": [
    "If you compare the histograms, you can see that the values in the data have changed (horizontal axis) but the shapes of the distributions are the same.\n",
    "\n",
    "We are not pursuing this further here but you are encouraged to re-do the clustering below with the scaled images and check if there are any differences."
   ]
  },
  {
   "cell_type": "markdown",
   "id": "9c8227a5",
   "metadata": {},
   "source": [
    "### **Image Segmentation with Clustering**\n",
    "<p style='text-align: justify;'>\n",
    "After this data cleaning step, we can proceed with our analysis. We want to segment the images into brain tissue and tumour tissue. It is not obvious how to do this, as the intensity values in the above histogram are continuous with only one major peak in intensity. We will nonetheless attempt to cluster the images using a Gaussian Mixture Model (GMM).\n",
    "</p>\n",
    "First, we import the GMM class from Scikit-learn."
   ]
  },
  {
   "cell_type": "code",
   "execution_count": null,
   "id": "0cc3dee0",
   "metadata": {},
   "outputs": [],
   "source": [
    "from sklearn.mixture import GaussianMixture"
   ]
  },
  {
   "cell_type": "markdown",
   "id": "477b2cb3",
   "metadata": {},
   "source": [
    "<p style='text-align: justify;'>\n",
    "We then fit the instantiated model with a few different numbers of clusters (argument `n_components`, between n = 2-4) individually for each image. We use the `fit_predict` method to simultaneously fit and label the images. Note that we also add 1 to each image label. This is because each data point gets labelled with a number from 0 to _n-1_ where _n_ is the number of clusters used to fit the model. At the plotting stage, we do not want any of our labels to be equal to 0, as this corresponds to the background.\n",
    "</p>"
   ]
  },
  {
   "cell_type": "code",
   "execution_count": null,
   "id": "6e05012e",
   "metadata": {
    "lines_to_next_cell": 2
   },
   "outputs": [],
   "source": [
    "RANDOM_SEED = 123\n",
    "\n",
    "gmm_2 = gmm_2 = GaussianMixture(2, random_state=RANDOM_SEED)\n",
    "img1_n2_labels = gmm_2.fit_predict(img1_nz.reshape(-1, 1))\n",
    "img1_n2_labels += 1\n",
    "\n",
    "gmm_3 = GaussianMixture(3, random_state=RANDOM_SEED)\n",
    "img1_n3_labels = gmm_3.fit_predict(img1_nz.reshape(-1, 1))\n",
    "img1_n3_labels += 1\n",
    "\n",
    "gmm_4 = GaussianMixture(4, random_state=RANDOM_SEED)\n",
    "img1_n4_labels = gmm_4.fit_predict(img1_nz.reshape(-1, 1))\n",
    "img1_n4_labels += 1"
   ]
  },
  {
   "cell_type": "code",
   "execution_count": null,
   "id": "ec579bc1",
   "metadata": {
    "lines_to_next_cell": 2
   },
   "outputs": [],
   "source": [
    "gmm_2 = GaussianMixture(2, random_state=RANDOM_SEED)\n",
    "img2_n2_labels = gmm_2.fit_predict(img2_nz.reshape(-1, 1))\n",
    "img2_n2_labels += 1\n",
    "\n",
    "gmm_3 = GaussianMixture(3, random_state=RANDOM_SEED)\n",
    "img2_n3_labels = gmm_3.fit_predict(img2_nz.reshape(-1, 1))\n",
    "img2_n3_labels += 1\n",
    "\n",
    "gmm_4 = GaussianMixture(4, random_state=RANDOM_SEED)\n",
    "img2_n4_labels = gmm_4.fit_predict(img2_nz.reshape(-1, 1))\n",
    "img2_n4_labels += 1"
   ]
  },
  {
   "cell_type": "code",
   "execution_count": null,
   "id": "29b42a92",
   "metadata": {
    "lines_to_next_cell": 2
   },
   "outputs": [],
   "source": [
    "gmm_2 = GaussianMixture(2, random_state=RANDOM_SEED)\n",
    "img3_n2_labels = gmm_2.fit_predict(img3_nz.reshape(-1, 1))\n",
    "img3_n2_labels += 1\n",
    "\n",
    "gmm_3 = GaussianMixture(3, random_state=RANDOM_SEED)\n",
    "img3_n3_labels = gmm_3.fit_predict(img3_nz.reshape(-1, 1))\n",
    "img3_n3_labels += 1\n",
    "\n",
    "gmm_4 = GaussianMixture(4, random_state=RANDOM_SEED)\n",
    "img3_n4_labels = gmm_4.fit_predict(img3_nz.reshape(-1, 1))\n",
    "img3_n4_labels += 1"
   ]
  },
  {
   "cell_type": "code",
   "execution_count": null,
   "id": "35b79327",
   "metadata": {},
   "outputs": [],
   "source": [
    "gmm_2 = GaussianMixture(2, random_state=RANDOM_SEED)\n",
    "img4_n2_labels = gmm_2.fit_predict(img4_nz.reshape(-1, 1))\n",
    "img4_n2_labels += 1\n",
    "\n",
    "gmm_3 = GaussianMixture(3, random_state=RANDOM_SEED)\n",
    "img4_n3_labels = gmm_3.fit_predict(img4_nz.reshape(-1, 1))\n",
    "img4_n3_labels += 1\n",
    "\n",
    "gmm_4 = GaussianMixture(4, random_state=RANDOM_SEED)\n",
    "img4_n4_labels = gmm_4.fit_predict(img4_nz.reshape(-1, 1))\n",
    "img4_n4_labels += 1"
   ]
  },
  {
   "cell_type": "markdown",
   "id": "2ae69a63",
   "metadata": {},
   "source": [
    "Once we have all our image labels, we map the labels back to the two-dimensional image array and plot the result.\n"
   ]
  },
  {
   "cell_type": "code",
   "execution_count": null,
   "id": "bf869c6b",
   "metadata": {
    "lines_to_next_cell": 2
   },
   "outputs": [],
   "source": [
    "img1_n2_labels_mapped = zeros(img1.shape)\n",
    "img1_n2_labels_mapped[mask] = img1_n2_labels\n",
    "\n",
    "img1_n3_labels_mapped = zeros(img1.shape)\n",
    "img1_n3_labels_mapped[mask] = img1_n3_labels\n",
    "\n",
    "img1_n4_labels_mapped = zeros(img1.shape)\n",
    "img1_n4_labels_mapped[mask] = img1_n4_labels"
   ]
  },
  {
   "cell_type": "code",
   "execution_count": null,
   "id": "555f8a99",
   "metadata": {
    "lines_to_next_cell": 2
   },
   "outputs": [],
   "source": [
    "img2_n2_labels_mapped = zeros(img2.shape)\n",
    "img2_n2_labels_mapped[mask] = img2_n2_labels\n",
    "\n",
    "img2_n3_labels_mapped = zeros(img2.shape)\n",
    "img2_n3_labels_mapped[mask] = img2_n3_labels\n",
    "\n",
    "img2_n4_labels_mapped = zeros(img2.shape)\n",
    "img2_n4_labels_mapped[mask] = img2_n4_labels"
   ]
  },
  {
   "cell_type": "code",
   "execution_count": null,
   "id": "b03e8997",
   "metadata": {
    "lines_to_next_cell": 2
   },
   "outputs": [],
   "source": [
    "img3_n2_labels_mapped = zeros(img3.shape)\n",
    "img3_n2_labels_mapped[mask] = img3_n2_labels\n",
    "\n",
    "img3_n3_labels_mapped = zeros(img3.shape)\n",
    "img3_n3_labels_mapped[mask] = img3_n3_labels\n",
    "\n",
    "img3_n4_labels_mapped = zeros(img3.shape)\n",
    "img3_n4_labels_mapped[mask] = img3_n4_labels"
   ]
  },
  {
   "cell_type": "code",
   "execution_count": null,
   "id": "293882d6",
   "metadata": {
    "lines_to_next_cell": 2
   },
   "outputs": [],
   "source": [
    "img4_n2_labels_mapped = zeros(img4.shape)\n",
    "img4_n2_labels_mapped[mask] = img4_n2_labels\n",
    "\n",
    "img4_n3_labels_mapped = zeros(img4.shape)\n",
    "img4_n3_labels_mapped[mask] = img4_n3_labels\n",
    "\n",
    "img4_n4_labels_mapped = zeros(img4.shape)\n",
    "img4_n4_labels_mapped[mask] = img4_n4_labels"
   ]
  },
  {
   "cell_type": "code",
   "execution_count": null,
   "id": "d0f805f0",
   "metadata": {},
   "outputs": [],
   "source": [
    "fig, ax = subplots(3, 4, figsize=(20, 15))\n",
    "\n",
    "ax[0, 0].imshow(img1_n2_labels_mapped[:, :, img_slice], cmap='viridis')\n",
    "ax[1, 0].imshow(img1_n3_labels_mapped[:, :, img_slice], cmap='viridis')\n",
    "ax[2, 0].imshow(img1_n4_labels_mapped[:, :, img_slice], cmap='viridis')\n",
    "ax[0, 1].imshow(img2_n2_labels_mapped[:, :, img_slice], cmap='viridis')\n",
    "ax[1, 1].imshow(img2_n3_labels_mapped[:, :, img_slice], cmap='viridis')\n",
    "ax[2, 1].imshow(img2_n4_labels_mapped[:, :, img_slice], cmap='viridis')\n",
    "\n",
    "ax[0, 2].imshow(img3_n2_labels_mapped[:, :, img_slice], cmap='viridis')\n",
    "ax[1, 2].imshow(img3_n3_labels_mapped[:, :, img_slice], cmap='viridis')\n",
    "ax[2, 2].imshow(img3_n4_labels_mapped[:, :, img_slice], cmap='viridis')\n",
    "\n",
    "ax[0, 3].imshow(img4_n2_labels_mapped[:, :, img_slice], cmap='viridis')\n",
    "ax[1, 3].imshow(img4_n3_labels_mapped[:, :, img_slice], cmap='viridis')\n",
    "ax[2, 3].imshow(img4_n4_labels_mapped[:, :, img_slice], cmap='viridis')\n",
    "\n",
    "ax[0, 0].set_ylabel(\"2 clusters\", fontsize=18)\n",
    "ax[1, 0].set_ylabel(\"3 clusters\", fontsize=18)\n",
    "ax[2, 0].set_ylabel(\"4 clusters\", fontsize=18)\n",
    "\n",
    "ax[0, 0].set_title(\"Image 1\", fontsize=18)\n",
    "ax[0, 1].set_title(\"Image 2\", fontsize=18)\n",
    "ax[0, 2].set_title(\"Image 3\", fontsize=18)\n",
    "ax[0, 3].set_title(\"Image 4\", fontsize=18)\n",
    "\n",
    "tight_layout()\n",
    "\n",
    "show()"
   ]
  },
  {
   "cell_type": "markdown",
   "id": "9d140660",
   "metadata": {},
   "source": [
    "<p style='text-align: justify;'>\n",
    "This figure shows the labels acquired from each of the images, using different numbers of clusters. We see that using Image 3 (acquired with FLAIR protocol), the lesion is segmented quite well from the rest of the brain. The other images are less effective at clearly identifying the lesion. However, some of these images, e.g. Image 4 (apparent diffusion coefficient) performs better at segmenting brain tissue from surrounding cerebrospinal fluid (CSF). CSF is not part of brain tissue and can contaminate our results. Ideally, we want to segment three key areas: brain, lesion and CSF.\n",
    "</p>\n",
    "\n",
    "### **Combining Contrast from Different Images**\n",
    "<p style='text-align: justify;'>\n",
    "So far, we only used the intensities of each image individually, i.e. using only one feature. We now try to combine the images into a single Numpy array containing four columns, one for each image.\n",
    "</p>"
   ]
  },
  {
   "cell_type": "code",
   "execution_count": null,
   "id": "ee7959d1",
   "metadata": {},
   "outputs": [],
   "source": [
    "all_img = stack([img1_nz, img2_nz, img3_nz, img4_nz], axis=1)\n",
    "all_img.shape\n"
   ]
  },
  {
   "cell_type": "code",
   "execution_count": null,
   "id": "741067a7",
   "metadata": {
    "lines_to_next_cell": 2
   },
   "outputs": [],
   "source": [
    "gmm_3 = GaussianMixture(3, random_state=RANDOM_SEED)\n",
    "\n",
    "all_img_n3_labels = gmm_3.fit_predict(all_img)\n",
    "all_img_n3_labels += 1\n"
   ]
  },
  {
   "cell_type": "code",
   "execution_count": null,
   "id": "4fff454a",
   "metadata": {
    "lines_to_next_cell": 2
   },
   "outputs": [],
   "source": [
    "all_img_n3_labels_mapped = zeros(img1.shape)\n",
    "all_img_n3_labels_mapped[mask] = all_img_n3_labels\n"
   ]
  },
  {
   "cell_type": "code",
   "execution_count": null,
   "id": "4d3b5d9d",
   "metadata": {},
   "outputs": [],
   "source": [
    "fig, ax = subplots(1, 5, figsize=(20, 5))\n",
    "ax[0].imshow(img1_n3_labels_mapped[:, :, img_slice], cmap='viridis')\n",
    "ax[1].imshow(img2_n3_labels_mapped[:, :, img_slice], cmap='viridis')\n",
    "ax[2].imshow(img3_n3_labels_mapped[:, :, img_slice], cmap='viridis')\n",
    "ax[3].imshow(img4_n3_labels_mapped[:, :, img_slice], cmap='viridis')\n",
    "ax[4].imshow(all_img_n3_labels_mapped[:, :, img_slice], cmap='viridis')\n",
    "\n",
    "ax[0].set_ylabel(\"3 clusters\", fontsize=18)\n",
    "\n",
    "ax[0].set_title(\"Image 1\", fontsize=18)\n",
    "ax[1].set_title(\"Image 2\", fontsize=18)\n",
    "ax[2].set_title(\"Image 3\", fontsize=18)\n",
    "ax[3].set_title(\"Image 4\", fontsize=18)\n",
    "ax[4].set_title(\"All images\", fontsize=18)\n",
    "\n",
    "tight_layout()\n",
    "\n",
    "show()"
   ]
  },
  {
   "cell_type": "markdown",
   "id": "7e27b956",
   "metadata": {},
   "source": [
    "<p style='text-align: justify;'>\n",
    "Here, the last column shows the cluster results when all four images are used in the Gaussian mixture model. These results seem to be better than the individual images, and with three clusters, the lesion, CSF and brain tissue seem clearly identified.\n",
    "</p>\n",
    "\n",
    "Let's plot some of the other image slices to check that the segmentation performs well on the whole 3D image.\n"
   ]
  },
  {
   "cell_type": "code",
   "execution_count": null,
   "id": "014ff28c",
   "metadata": {},
   "outputs": [],
   "source": [
    "fig, ax = subplots(5, 5, figsize=(20, 20))\n",
    "\n",
    "ax[0, 0].imshow(img1[:, :, 16], cmap='gray')\n",
    "ax[0, 1].imshow(img1[:, :, 18], cmap='gray')\n",
    "ax[0, 2].imshow(img1[:, :, 20], cmap='gray')\n",
    "ax[0, 3].imshow(img1[:, :, 22], cmap='gray')\n",
    "ax[0, 4].imshow(img1[:, :, 24], cmap='gray')\n",
    "\n",
    "ax[1, 0].imshow(img2[:, :, 16], cmap='gray')\n",
    "ax[1, 1].imshow(img2[:, :, 18], cmap='gray')\n",
    "ax[1, 2].imshow(img2[:, :, 20], cmap='gray')\n",
    "ax[1, 3].imshow(img2[:, :, 22], cmap='gray')\n",
    "ax[1, 4].imshow(img2[:, :, 24], cmap='gray')\n",
    "\n",
    "ax[2, 0].imshow(img3[:, :, 16], cmap='gray')\n",
    "ax[2, 1].imshow(img3[:, :, 18], cmap='gray')\n",
    "ax[2, 2].imshow(img3[:, :, 20], cmap='gray')\n",
    "ax[2, 3].imshow(img3[:, :, 22], cmap='gray')\n",
    "ax[2, 4].imshow(img3[:, :, 24], cmap='gray')\n",
    "\n",
    "ax[3, 0].imshow(img4[:, :, 16], cmap='gray')\n",
    "ax[3, 1].imshow(img4[:, :, 18], cmap='gray')\n",
    "ax[3, 2].imshow(img4[:, :, 20], cmap='gray')\n",
    "ax[3, 3].imshow(img4[:, :, 22], cmap='gray')\n",
    "ax[3, 4].imshow(img4[:, :, 24], cmap='gray')\n",
    "\n",
    "ax[4, 0].imshow(all_img_n3_labels_mapped[:, :, 16], cmap='viridis')\n",
    "ax[4, 1].imshow(all_img_n3_labels_mapped[:, :, 18], cmap='viridis')\n",
    "ax[4, 2].imshow(all_img_n3_labels_mapped[:, :, 20], cmap='viridis')\n",
    "ax[4, 3].imshow(all_img_n3_labels_mapped[:, :, 22], cmap='viridis')\n",
    "ax[4, 4].imshow(all_img_n3_labels_mapped[:, :, 24], cmap='viridis')\n",
    "\n",
    "ax[0, 0].set_title(\"Slice 16\", fontsize=16)\n",
    "ax[0, 1].set_title(\"Slice 18\", fontsize=16)\n",
    "ax[0, 2].set_title(\"Slice 20\", fontsize=16)\n",
    "ax[0, 3].set_title(\"Slice 22\", fontsize=16)\n",
    "ax[0, 4].set_title(\"Slice 24\", fontsize=16)\n",
    "\n",
    "ax[0, 0].set_ylabel(\"Image 1\", fontsize=16)\n",
    "ax[1, 0].set_ylabel(\"Image 2\", fontsize=16)\n",
    "ax[2, 0].set_ylabel(\"Image 3\", fontsize=16)\n",
    "ax[3, 0].set_ylabel(\"Image 4\", fontsize=16)\n",
    "ax[4, 0].set_ylabel(\"Clustered labels\", fontsize=16);\n",
    "\n",
    "show()"
   ]
  },
  {
   "cell_type": "markdown",
   "id": "c00eb0c1",
   "metadata": {},
   "source": [
    "Overall, the lesion, shown in yellow, seems to be segmented well across the volume.\n",
    "\n",
    "### **Checking the GMM Labels**\n",
    "<p style='text-align: justify;'>\n",
    "To investigate how the image intensities were clustered, we can look at the scatter plots for each combination of images. The diagonal plots show histograms of each image. This type of plot can be very useful in exploratory data analysis.\n",
    "</p>\n",
    "\n",
    ":::::::::::::: callout\n",
    "## Note\n",
    "Note that this plot might take a bit longer to run, as there are a very large number of data points.\n",
    "::::::::::::::\n",
    "\n",
    "In a python plotting library called [seaborn](https://seaborn.pydata.org), such plots are called `pairplots` and can be very easily plotted if your data is in a pandas dataframe.\n",
    "\n",
    "You can install it at the command prompt (Windows) or terminal (MacOS, Linux) using:"
   ]
  },
  {
   "cell_type": "markdown",
   "id": "bc3f9d37",
   "metadata": {},
   "source": [
    "```\n",
    "conda install seaborn\n",
    "```\n",
    "\n",
    "To use it, import the required functions in your Python kernel, e.g.:"
   ]
  },
  {
   "cell_type": "code",
   "execution_count": null,
   "id": "1c9862de",
   "metadata": {},
   "outputs": [],
   "source": [
    "from seaborn import pairplot"
   ]
  },
  {
   "cell_type": "markdown",
   "id": "58bbc070",
   "metadata": {},
   "source": [
    "We don't use this library here, but encourage you to look up further information in [the seaborn documentation](https://seaborn.pydata.org/generated/seaborn.pairplot.html).\n"
   ]
  },
  {
   "cell_type": "code",
   "execution_count": null,
   "id": "3df2dcfd",
   "metadata": {},
   "outputs": [],
   "source": [
    "fig, ax = subplots(4, 4, figsize=(20, 20))\n",
    "\n",
    "ax[0, 0].hist(img1_nz, bins=50);\n",
    "ax[0, 0].set_title('Image 1', fontsize=16)\n",
    "ax[0, 1].scatter(img1_nz, img2_nz, c=all_img_n3_labels, cmap='viridis', vmin=0);\n",
    "ax[0, 1].set_xlabel('Image 1', fontsize=16)\n",
    "ax[0, 1].set_ylabel('Image 2', fontsize=16)\n",
    "ax[0, 2].scatter(img1_nz, img3_nz, c=all_img_n3_labels, cmap='viridis', vmin=0);\n",
    "ax[0, 2].set_xlabel('Image 1', fontsize=16)\n",
    "ax[0, 2].set_ylabel('Image 3', fontsize=16)\n",
    "ax[0, 3].scatter(img1_nz, img4_nz, c=all_img_n3_labels, cmap='viridis', vmin=0);\n",
    "ax[0, 3].set_xlabel('Image 1', fontsize=16)\n",
    "ax[0, 3].set_ylabel('Image 4', fontsize=16)\n",
    "\n",
    "ax[1, 0].scatter(img2_nz, img1_nz, c=all_img_n3_labels, cmap='viridis', vmin=0);\n",
    "ax[1, 0].set_xlabel('Image 2', fontsize=16)\n",
    "ax[1, 0].set_ylabel('Image 1', fontsize=16)\n",
    "ax[1, 1].hist(img2_nz, bins=50);\n",
    "ax[1, 1].set_title('Image 2', fontsize=16)\n",
    "ax[1, 2].scatter(img2_nz, img3_nz, c=all_img_n3_labels, cmap='viridis', vmin=0);\n",
    "ax[1, 2].set_xlabel('Image 2', fontsize=16)\n",
    "ax[1, 2].set_ylabel('Image 3', fontsize=16)\n",
    "ax[1, 3].scatter(img2_nz, img4_nz, c=all_img_n3_labels, cmap='viridis', vmin=0);\n",
    "ax[1, 3].set_xlabel('Image 2', fontsize=16)\n",
    "ax[1, 3].set_ylabel('Image 4', fontsize=16)\n",
    "\n",
    "ax[2, 0].scatter(img3_nz, img1_nz, c=all_img_n3_labels, cmap='viridis', vmin=0);\n",
    "ax[2, 0].set_xlabel('Image 3', fontsize=16)\n",
    "ax[2, 0].set_ylabel('Image 1', fontsize=16)\n",
    "ax[2, 1].scatter(img3_nz, img2_nz, c=all_img_n3_labels, cmap='viridis', vmin=0);\n",
    "ax[2, 1].set_xlabel('Image 3', fontsize=16)\n",
    "ax[2, 1].set_ylabel('Image 2', fontsize=16)\n",
    "ax[2, 2].hist(img3_nz, bins=50);\n",
    "ax[2, 2].set_title('Image 3', fontsize=16)\n",
    "ax[2, 3].scatter(img3_nz, img4_nz, c=all_img_n3_labels, cmap='viridis', vmin=0);\n",
    "ax[2, 3].set_xlabel('Image 3', fontsize=16)\n",
    "ax[2, 3].set_ylabel('Image 4', fontsize=16)\n",
    "\n",
    "ax[3, 0].scatter(img4_nz, img1_nz, c=all_img_n3_labels, cmap='viridis', vmin=0);\n",
    "ax[3, 0].set_xlabel('Image 4', fontsize=16)\n",
    "ax[3, 0].set_ylabel('Image 1', fontsize=16)\n",
    "ax[3, 1].scatter(img4_nz, img2_nz, c=all_img_n3_labels, cmap='viridis', vmin=0);\n",
    "ax[3, 1].set_xlabel('Image 4', fontsize=16)\n",
    "ax[3, 1].set_ylabel('Image 2', fontsize=16)\n",
    "ax[3, 2].scatter(img4_nz, img3_nz, c=all_img_n3_labels, cmap='viridis', vmin=0);\n",
    "ax[3, 2].set_xlabel('Image 4', fontsize=16)\n",
    "ax[3, 2].set_ylabel('Image 3', fontsize=16)\n",
    "ax[3, 3].hist(img4_nz, bins=50);\n",
    "ax[3, 3].set_title('Image 4', fontsize=16)\n",
    "\n",
    "fig.tight_layout()\n",
    "show()"
   ]
  },
  {
   "cell_type": "markdown",
   "id": "2b0d927a",
   "metadata": {},
   "source": [
    "<p style='text-align: justify;'>\n",
    "The colours in the scatter plots above correspond to the labels we extracted using all four images and three clusters. I.e. green corresponds to healthy brain tissue, yellow corresponds to CSF and blue corresponds to the lesion. This figure shows reasonably well how CSF (yellow) and lesion (blue) can be clustered. However, it is not as easy to see how the healthy tissue was separated from CSF and lesion tissue. To investigate further, we can plot the above slightly differently, using a 2-dimensional histogram instead of a scatter plot.\n",
    "</p>\n",
    "\n",
    "::::::::::::::::: callout\n",
    "##\n",
    "A 2-dimensional histogram plots the counts of values in bins for two variables. The results are displayed as a heatmap. An intuitive example with code using the Matplotlib function `hist2d` [is available here](https://matplotlib.org/3.1.1/gallery/scales/power_norm.html#sphx-glr-gallery-scales-power-norm-py).|\n",
    ":::::::::::::::::"
   ]
  },
  {
   "cell_type": "code",
   "execution_count": null,
   "id": "e286d234",
   "metadata": {},
   "outputs": [],
   "source": [
    "import matplotlib.colors as mcolors\n",
    "\n",
    "fig, ax = subplots(4, 4, figsize=(20, 20))\n",
    "\n",
    "ax[0, 0].hist(img1_nz, bins=50);\n",
    "ax[0, 1].hist2d(img1_nz, img2_nz, bins=100, norm=mcolors.PowerNorm(0.2));\n",
    "ax[0, 2].hist2d(img1_nz, img3_nz, bins=100, norm=mcolors.PowerNorm(0.2));\n",
    "ax[0, 3].hist2d(img1_nz, img4_nz, bins=100, norm=mcolors.PowerNorm(0.2));\n",
    "\n",
    "ax[1, 0].hist2d(img2_nz, img1_nz, bins=100, norm=mcolors.PowerNorm(0.2));\n",
    "ax[1, 1].hist(img2_nz, bins=50);\n",
    "ax[1, 2].hist2d(img2_nz, img3_nz, bins=100, norm=mcolors.PowerNorm(0.2));\n",
    "ax[1, 3].hist2d(img2_nz, img4_nz, bins=100, norm=mcolors.PowerNorm(0.2));\n",
    "\n",
    "ax[2, 0].hist2d(img3_nz, img1_nz, bins=100, norm=mcolors.PowerNorm(0.2));\n",
    "ax[2, 1].hist2d(img3_nz, img2_nz, bins=100, norm=mcolors.PowerNorm(0.2));\n",
    "ax[2, 2].hist(img3_nz, bins=50);\n",
    "ax[2, 3].hist2d(img3_nz, img4_nz, bins=100, norm=mcolors.PowerNorm(0.2));\n",
    "\n",
    "ax[3, 0].hist2d(img4_nz, img1_nz, bins=100, norm=mcolors.PowerNorm(0.2));\n",
    "ax[3, 1].hist2d(img4_nz, img2_nz, bins=100, norm=mcolors.PowerNorm(0.2));\n",
    "ax[3, 2].hist2d(img4_nz, img3_nz, bins=100, norm=mcolors.PowerNorm(0.2));\n",
    "ax[3, 3].hist(img4_nz, bins=50);\n",
    "\n",
    "show()"
   ]
  },
  {
   "cell_type": "markdown",
   "id": "92a3fa32",
   "metadata": {},
   "source": [
    "<p style='text-align: justify;'>\n",
    "Note in the plot, we used a PowerNorm normalisation on the image intensities. This is just to aid with visualisation, and you are welcome to change or completely remove the normalisation.\n",
    "</p>\n",
    "<p style='text-align: justify;'>\n",
    "The plots show that there is a bright, high-density region corresponding to the clustered healthy tissue region. This gives us a better idea how the GMM algorithm found the three regions. Healthy tissue has low signal variance in all 4 images. Signal intensity in CSF and the lesion have much higher variance making it possible to distinguish them from healthy tissue. Furthermore, the relative intensities of CSF and lesion tissue are different as shown in the scatter plots, making it possible for the GMM to distinguish between the two.\n",
    "</p>\n"
   ]
  },
  {
   "cell_type": "markdown",
   "id": "bab6ce0b",
   "metadata": {},
   "source": [
    "## Exercises\n",
    ":::::::::::::::::::::::::::::::::::::::: challenge\n",
    "\n",
    "#### End of chapter Exercises\n",
    "\n",
    "<p style='text-align: justify;'>\n",
    "In this assignment, we ask you to use the same set of images as in the work through example. However, instead of GMM, we want you to try a different clustering method called __KMeans__. The documentation for KMneans is available here: https://scikit-learn.org/stable/modules/generated/sklearn.cluster.KMeans.html. Some examples of how kmeans clustering can go wrong are shown in [this example code](https://scikit-learn.org/stable/auto_examples/cluster/plot_kmeans_assumptions.html#sphx-glr-auto-examples-cluster-plot-kmeans-assumptions-py).\n",
    "</p>\n",
    "\n",
    "Using `KMeans` from 'sklearn.cluster', do the following tasks:\n",
    "\n",
    "1. Investigate different numbers of clusters, similarly to what we did in th work through example.\n",
    "\n",
    "2. Use different combinations of the 4 images to see how the clustering performs in different cases.\n",
    "\n",
    "3. The labelled results using all four images may not look as clean as the ones in the work-through example. Try scaling the images e.g. using the sklearn standard scaler, and combining the scaled images. Do the results change? If yes, explore and comment on why you think scaling may be advantageous in this clustering example.\n",
    "\n",
    "4. Compare the behaviour of `KMeans` to the outcome with `GaussianMixture`.\n",
    "\n",
    "::::::::::::::::::::: solution\n",
    "\n",
    "## Please check these solutions only after submitting the assignments.\n"
   ]
  },
  {
   "cell_type": "code",
   "execution_count": null,
   "id": "aae18a79",
   "metadata": {},
   "outputs": [],
   "source": [
    "img_3d = nib.load('fig/t1.nii')\n",
    "img1 = img_3d.get_fdata()\n",
    "\n",
    "img_3d = nib.load('fig/t1_contrast.nii')\n",
    "img2 = img_3d.get_fdata()\n",
    "\n",
    "img_3d = nib.load('fig/flair.nii')\n",
    "img3 = img_3d.get_fdata()\n",
    "\n",
    "img_3d = nib.load('fig/adc.nii')\n",
    "img4 = img_3d.get_fdata()"
   ]
  },
  {
   "cell_type": "code",
   "execution_count": null,
   "id": "9f975cdc",
   "metadata": {},
   "outputs": [],
   "source": [
    "mask = (img1>0) & (img2>0) & (img3>0) & (img4>0)\n",
    "\n",
    "img1_nz = img1[mask]\n",
    "img2_nz = img2[mask]\n",
    "img3_nz = img3[mask]\n",
    "img4_nz = img4[mask]\n"
   ]
  },
  {
   "cell_type": "code",
   "execution_count": null,
   "id": "6bdd4c76",
   "metadata": {
    "lines_to_next_cell": 0
   },
   "outputs": [],
   "source": [
    "import numpy as np\n",
    "all_img = np.stack([img1_nz, img2_nz, img3_nz, img4_nz], axis=1)\n"
   ]
  },
  {
   "cell_type": "markdown",
   "id": "af7de475",
   "metadata": {},
   "source": []
  },
  {
   "cell_type": "markdown",
   "id": "27137a67",
   "metadata": {
    "lines_to_next_cell": 0
   },
   "source": [
    "### **Without scaling**"
   ]
  },
  {
   "cell_type": "code",
   "execution_count": null,
   "id": "bdfcd7ad",
   "metadata": {
    "lines_to_next_cell": 2
   },
   "outputs": [],
   "source": [
    "from sklearn.cluster import KMeans\n",
    "\n",
    "RANDOM_SEED = 123\n",
    "\n",
    "kmeans = KMeans(n_clusters=3, random_state=RANDOM_SEED)\n",
    "\n",
    "img1_kmeans_labels = kmeans.fit_predict(img1_nz.reshape(-1, 1))\n",
    "img1_kmeans_labels += 1\n",
    "img1_kmeans_labels_mapped = np.zeros(img1.shape)\n",
    "img1_kmeans_labels_mapped[mask] = img1_kmeans_labels\n",
    "\n",
    "img2_kmeans_labels = kmeans.fit_predict(img2_nz.reshape(-1, 1))\n",
    "img2_kmeans_labels += 1\n",
    "img2_kmeans_labels_mapped = np.zeros(img2.shape)\n",
    "img2_kmeans_labels_mapped[mask] = img2_kmeans_labels\n",
    "\n",
    "img3_kmeans_labels = kmeans.fit_predict(img3_nz.reshape(-1, 1))\n",
    "img3_kmeans_labels += 1\n",
    "img3_kmeans_labels_mapped = np.zeros(img3.shape)\n",
    "img3_kmeans_labels_mapped[mask] = img3_kmeans_labels\n",
    "\n",
    "img4_kmeans_labels = kmeans.fit_predict(img4_nz.reshape(-1, 1))\n",
    "img4_kmeans_labels += 1\n",
    "img4_kmeans_labels_mapped = np.zeros(img4.shape)\n",
    "img4_kmeans_labels_mapped[mask] = img4_kmeans_labels\n",
    "\n",
    "all_img_kmeans_labels = kmeans.fit_predict(all_img)\n",
    "all_img_kmeans_labels += 1\n",
    "all_img_kmeans_labels_mapped = np.zeros(img1.shape)\n",
    "all_img_kmeans_labels_mapped[mask] = all_img_kmeans_labels"
   ]
  },
  {
   "cell_type": "code",
   "execution_count": null,
   "id": "0118bb7a",
   "metadata": {
    "lines_to_next_cell": 2
   },
   "outputs": [],
   "source": [
    "img_slice = 20\n",
    "\n",
    "fig, ax = subplots(1, 5, figsize=(20, 5))\n",
    "\n",
    "ax[0].imshow(img1_kmeans_labels_mapped[:, :, img_slice], cmap='viridis');\n",
    "ax[1].imshow(img2_kmeans_labels_mapped[:, :, img_slice], cmap='viridis');\n",
    "ax[2].imshow(img3_kmeans_labels_mapped[:, :, img_slice], cmap='viridis');\n",
    "ax[3].imshow(img4_kmeans_labels_mapped[:, :, img_slice], cmap='viridis');\n",
    "ax[4].imshow(all_img_kmeans_labels_mapped[:, :, img_slice], cmap='viridis');\n",
    "\n",
    "ax[0].set_ylabel(\"kmeans, 3 clusters\", fontsize=18)\n",
    "\n",
    "ax[0].set_title(\"Image 1\", fontsize=18)\n",
    "ax[1].set_title(\"Image 2\", fontsize=18)\n",
    "ax[2].set_title(\"Image 3\", fontsize=18)\n",
    "ax[3].set_title(\"Image 4\", fontsize=18)\n",
    "ax[4].set_title(\"All images\", fontsize=18)\n",
    "\n",
    "tight_layout();\n",
    "show()"
   ]
  },
  {
   "cell_type": "code",
   "execution_count": null,
   "id": "0495aa8c",
   "metadata": {
    "lines_to_next_cell": 2
   },
   "outputs": [],
   "source": [
    "fig, ax = subplots(4, 4, figsize=(20, 20))\n",
    "\n",
    "ax[0, 0].hist(img1_nz, bins=50);\n",
    "ax[0, 0].set_title('Image 1', fontsize=16)\n",
    "ax[0, 1].scatter(img1_nz, img2_nz, c=all_img_kmeans_labels, cmap='viridis', vmin=0);\n",
    "ax[0, 1].set_xlabel('Image 1', fontsize=16)\n",
    "ax[0, 1].set_ylabel('Image 2', fontsize=16)\n",
    "ax[0, 2].scatter(img1_nz, img3_nz, c=all_img_kmeans_labels, cmap='viridis', vmin=0);\n",
    "ax[0, 2].set_xlabel('Image 1', fontsize=16)\n",
    "ax[0, 2].set_ylabel('Image 3', fontsize=16)\n",
    "ax[0, 3].scatter(img1_nz, img4_nz, c=all_img_kmeans_labels, cmap='viridis', vmin=0);\n",
    "ax[0, 3].set_xlabel('Image 1', fontsize=16)\n",
    "ax[0, 3].set_ylabel('Image 4', fontsize=16)\n",
    "\n",
    "ax[1, 0].scatter(img2_nz, img1_nz, c=all_img_kmeans_labels, cmap='viridis', vmin=0);\n",
    "ax[1, 0].set_xlabel('Image 2', fontsize=16)\n",
    "ax[1, 0].set_ylabel('Image 1', fontsize=16)\n",
    "ax[1, 1].hist(img2_nz, bins=50);\n",
    "ax[1, 1].set_title('Image 2', fontsize=16)\n",
    "ax[1, 2].scatter(img2_nz, img3_nz, c=all_img_kmeans_labels, cmap='viridis', vmin=0);\n",
    "ax[1, 2].set_xlabel('Image 2', fontsize=16)\n",
    "ax[1, 2].set_ylabel('Image 3', fontsize=16)\n",
    "ax[1, 3].scatter(img2_nz, img4_nz, c=all_img_kmeans_labels, cmap='viridis', vmin=0);\n",
    "ax[1, 3].set_xlabel('Image 2', fontsize=16)\n",
    "ax[1, 3].set_ylabel('Image 4', fontsize=16)\n",
    "\n",
    "ax[2, 0].scatter(img3_nz, img1_nz, c=all_img_kmeans_labels, cmap='viridis', vmin=0);\n",
    "ax[2, 0].set_xlabel('Image 3', fontsize=16)\n",
    "ax[2, 0].set_ylabel('Image 1', fontsize=16)\n",
    "ax[2, 1].scatter(img3_nz, img2_nz, c=all_img_kmeans_labels, cmap='viridis', vmin=0);\n",
    "ax[2, 1].set_xlabel('Image 3', fontsize=16)\n",
    "ax[2, 1].set_ylabel('Image 2', fontsize=16)\n",
    "ax[2, 2].hist(img3_nz, bins=50);\n",
    "ax[2, 2].set_title('Image 3, fontsize=16')\n",
    "ax[2, 3].scatter(img3_nz, img4_nz, c=all_img_kmeans_labels, cmap='viridis', vmin=0);\n",
    "ax[2, 3].set_xlabel('Image 3', fontsize=16)\n",
    "ax[2, 3].set_ylabel('Image 4', fontsize=16)\n",
    "\n",
    "ax[3, 0].scatter(img4_nz, img1_nz, c=all_img_kmeans_labels, cmap='viridis', vmin=0);\n",
    "ax[3, 0].set_xlabel('Image 4', fontsize=16)\n",
    "ax[3, 0].set_ylabel('Image 1', fontsize=16)\n",
    "ax[3, 1].scatter(img4_nz, img2_nz, c=all_img_kmeans_labels, cmap='viridis', vmin=0);\n",
    "ax[3, 1].set_xlabel('Image 4', fontsize=16)\n",
    "ax[3, 1].set_ylabel('Image 2', fontsize=16)\n",
    "ax[3, 2].scatter(img4_nz, img3_nz, c=all_img_kmeans_labels, cmap='viridis', vmin=0);\n",
    "ax[3, 2].set_xlabel('Image 4', fontsize=16)\n",
    "ax[3, 2].set_ylabel('Image 3', fontsize=16)\n",
    "ax[3, 3].hist(img4_nz, bins=50);\n",
    "ax[3, 3].set_title('Image 4', fontsize=16)\n",
    "\n",
    "tight_layout();\n",
    "show()"
   ]
  },
  {
   "cell_type": "markdown",
   "id": "cdcb3447",
   "metadata": {
    "lines_to_next_cell": 0
   },
   "source": [
    "### **Without scaling**"
   ]
  },
  {
   "cell_type": "code",
   "execution_count": null,
   "id": "312dbf4e",
   "metadata": {},
   "outputs": [],
   "source": [
    "from sklearn.preprocessing import StandardScaler\n",
    "scaler = StandardScaler()\n",
    "\n",
    "img1_scaled = scaler.fit_transform(img1_nz.reshape(-1, 1))\n",
    "img2_scaled = scaler.fit_transform(img2_nz.reshape(-1, 1))\n",
    "img3_scaled = scaler.fit_transform(img3_nz.reshape(-1, 1))\n",
    "img4_scaled = scaler.fit_transform(img4_nz.reshape(-1, 1))\n",
    "\n",
    "all_img_scaled = np.concatenate([img1_scaled, img2_scaled, img3_scaled, img4_scaled], axis=1)"
   ]
  },
  {
   "cell_type": "code",
   "execution_count": null,
   "id": "efea555f",
   "metadata": {
    "lines_to_next_cell": 2
   },
   "outputs": [],
   "source": [
    "img1_kmeans_labels = kmeans.fit_predict(img1_scaled)\n",
    "img1_kmeans_labels += 1\n",
    "img1_kmeans_labels_mapped = np.zeros(img1.shape)\n",
    "img1_kmeans_labels_mapped[mask] = img1_kmeans_labels\n",
    "\n",
    "img2_kmeans_labels = kmeans.fit_predict(img2_scaled)\n",
    "img2_kmeans_labels += 1\n",
    "img2_kmeans_labels_mapped = np.zeros(img2.shape)\n",
    "img2_kmeans_labels_mapped[mask] = img2_kmeans_labels\n",
    "\n",
    "img3_kmeans_labels = kmeans.fit_predict(img3_scaled)\n",
    "img3_kmeans_labels += 1\n",
    "img3_kmeans_labels_mapped = np.zeros(img3.shape)\n",
    "img3_kmeans_labels_mapped[mask] = img3_kmeans_labels\n",
    "\n",
    "img4_kmeans_labels = kmeans.fit_predict(img4_scaled)\n",
    "img4_kmeans_labels += 1\n",
    "img4_kmeans_labels_mapped = np.zeros(img4.shape)\n",
    "img4_kmeans_labels_mapped[mask] = img4_kmeans_labels\n",
    "\n",
    "all_img_kmeans_labels = kmeans.fit_predict(all_img_scaled)\n",
    "all_img_kmeans_labels += 1\n",
    "all_img_kmeans_labels_mapped = np.zeros(img1.shape)\n",
    "all_img_kmeans_labels_mapped[mask] = all_img_kmeans_labels"
   ]
  },
  {
   "cell_type": "code",
   "execution_count": null,
   "id": "c59a8f86",
   "metadata": {},
   "outputs": [],
   "source": [
    "fig, ax = subplots(1, 5, figsize=(20, 5))\n",
    "\n",
    "ax[0].imshow(img1_kmeans_labels_mapped[:, :, img_slice], cmap='viridis');\n",
    "ax[1].imshow(img2_kmeans_labels_mapped[:, :, img_slice], cmap='viridis');\n",
    "ax[2].imshow(img3_kmeans_labels_mapped[:, :, img_slice], cmap='viridis');\n",
    "ax[3].imshow(img4_kmeans_labels_mapped[:, :, img_slice], cmap='viridis');\n",
    "ax[4].imshow(all_img_kmeans_labels_mapped[:, :, img_slice], cmap='viridis');\n",
    "\n",
    "ax[0].set_ylabel(\"kmeans, 3 clusters\", fontsize=18)\n",
    "\n",
    "ax[0].set_title(\"Image 1\", fontsize=18)\n",
    "ax[1].set_title(\"Image 2\", fontsize=18)\n",
    "ax[2].set_title(\"Image 3\", fontsize=18)\n",
    "ax[3].set_title(\"Image 4\", fontsize=18)\n",
    "ax[4].set_title(\"All images\", fontsize=18)\n",
    "\n",
    "tight_layout();\n",
    "show()"
   ]
  },
  {
   "cell_type": "code",
   "execution_count": null,
   "id": "9ff752a8",
   "metadata": {
    "lines_to_next_cell": 0
   },
   "outputs": [],
   "source": [
    "fig, ax = subplots(4, 4, figsize=(20, 20))\n",
    "\n",
    "ax[0, 0].hist(img1_scaled, bins=50);\n",
    "ax[0, 0].set_title('Image 1', fontsize=16)\n",
    "ax[0, 1].scatter(img1_scaled, img2_scaled, c=all_img_kmeans_labels.reshape(-1, 1), cmap='viridis', vmin=0);\n",
    "ax[0, 1].set_xlabel('Image 1', fontsize=16)\n",
    "ax[0, 1].set_ylabel('Image 2', fontsize=16)\n",
    "ax[0, 2].scatter(img1_scaled, img3_scaled, c=all_img_kmeans_labels.reshape(-1, 1), cmap='viridis', vmin=0);\n",
    "ax[0, 2].set_xlabel('Image 1', fontsize=16)\n",
    "ax[0, 2].set_ylabel('Image 3', fontsize=16)\n",
    "ax[0, 3].scatter(img1_scaled, img4_scaled, c=all_img_kmeans_labels.reshape(-1, 1), cmap='viridis', vmin=0);\n",
    "ax[0, 3].set_xlabel('Image 1', fontsize=16)\n",
    "ax[0, 3].set_ylabel('Image 4', fontsize=16)\n",
    "\n",
    "ax[1, 0].scatter(img2_scaled, img1_scaled, c=all_img_kmeans_labels.reshape(-1, 1), cmap='viridis', vmin=0);\n",
    "ax[1, 0].set_xlabel('Image 2', fontsize=16)\n",
    "ax[1, 0].set_ylabel('Image 1', fontsize=16)\n",
    "ax[1, 1].hist(img2_scaled, bins=50);\n",
    "ax[1, 1].set_title('Image 2', fontsize=16)\n",
    "ax[1, 2].scatter(img2_scaled, img3_scaled, c=all_img_kmeans_labels.reshape(-1, 1), cmap='viridis', vmin=0);\n",
    "ax[1, 2].set_xlabel('Image 2', fontsize=16)\n",
    "ax[1, 2].set_ylabel('Image 3', fontsize=16)\n",
    "ax[1, 3].scatter(img2_scaled, img4_scaled, c=all_img_kmeans_labels.reshape(-1, 1), cmap='viridis', vmin=0);\n",
    "ax[1, 3].set_xlabel('Image 2', fontsize=16)\n",
    "ax[1, 3].set_ylabel('Image 4', fontsize=16)\n",
    "\n",
    "ax[2, 0].scatter(img3_scaled, img1_scaled, c=all_img_kmeans_labels.reshape(-1, 1), cmap='viridis', vmin=0);\n",
    "ax[2, 0].set_xlabel('Image 3', fontsize=16)\n",
    "ax[2, 0].set_ylabel('Image 1', fontsize=16)\n",
    "ax[2, 1].scatter(img3_scaled, img2_scaled, c=all_img_kmeans_labels.reshape(-1, 1), cmap='viridis', vmin=0);\n",
    "ax[2, 1].set_xlabel('Image 3', fontsize=16)\n",
    "ax[2, 1].set_ylabel('Image 2', fontsize=16)\n",
    "ax[2, 2].hist(img3_scaled, bins=50);\n",
    "ax[2, 2].set_title('Image 3, fontsize=16')\n",
    "ax[2, 3].scatter(img3_scaled, img4_scaled, c=all_img_kmeans_labels.reshape(-1, 1), cmap='viridis', vmin=0);\n",
    "ax[2, 3].set_xlabel('Image 3', fontsize=16)\n",
    "ax[2, 3].set_ylabel('Image 4', fontsize=16)\n",
    "\n",
    "ax[3, 0].scatter(img4_scaled, img1_scaled, c=all_img_kmeans_labels.reshape(-1, 1), cmap='viridis', vmin=0);\n",
    "ax[3, 0].set_xlabel('Image 4', fontsize=16)\n",
    "ax[3, 0].set_ylabel('Image 1', fontsize=16)\n",
    "ax[3, 1].scatter(img4_scaled, img2_scaled, c=all_img_kmeans_labels.reshape(-1, 1), cmap='viridis', vmin=0);\n",
    "ax[3, 1].set_xlabel('Image 4', fontsize=16)\n",
    "ax[3, 1].set_ylabel('Image 2', fontsize=16)\n",
    "ax[3, 2].scatter(img4_scaled, img3_scaled, c=all_img_kmeans_labels.reshape(-1, 1), cmap='viridis', vmin=0);\n",
    "ax[3, 2].set_xlabel('Image 4', fontsize=16)\n",
    "ax[3, 2].set_ylabel('Image 3', fontsize=16)\n",
    "ax[3, 3].hist(img4_scaled, bins=50);\n",
    "ax[3, 3].set_title('Image 4', fontsize=16)\n",
    "\n",
    "tight_layout();\n",
    "show()"
   ]
  },
  {
   "cell_type": "markdown",
   "id": "74705b6f",
   "metadata": {},
   "source": [
    ":::::::::::::::::::::\n",
    "::::::::::::::::::::::::::::::::::::::::\n",
    "\n",
    "## Further Reading\n",
    "\n",
    "If after this lesson you want to deepen your understanding of clustering and, in particular, want to compare the performance of different clustering methods when dealing with images, try the article [Clustering techniques for\n",
    "neuroimaging applications](https://onlinelibrary.wiley.com/doi/pdf/10.1002/widm.1174). It is paywalled and you will need an institutional access to download.\n",
    "\n",
    "::::::::::::::::::::::::::::::::::::: keypoints\n",
    "\n",
    "- Image analysis almost always requires a bit of pre-processing.\n",
    "- Image scaling is performed by using `fit_transform` method from module `StandardScaler` in `Scikit-learn`.\n",
    "- GMM offers a good startig point in image clustering.\n",
    "- Diagonal plots are very useful in exploratory data analysis.\n",
    "\n",
    "::::::::::::::::::::::::::::::::::::::::::::::::"
   ]
  },
  {
   "cell_type": "markdown",
   "id": "1cd3b5e2",
   "metadata": {},
   "source": [
    "[r-markdown]: https://rmarkdown.rstudio.com/"
   ]
  }
 ],
 "metadata": {
  "jupytext": {
   "cell_metadata_filter": "results,-all",
   "main_language": "python",
   "notebook_metadata_filter": "-all"
  }
 },
 "nbformat": 4,
 "nbformat_minor": 5
}
