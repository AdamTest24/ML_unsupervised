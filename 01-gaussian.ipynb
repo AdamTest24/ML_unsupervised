{
 "cells": [
  {
   "cell_type": "raw",
   "id": "498d4712",
   "metadata": {},
   "source": [
    "---\n",
    "title: \"Gaussian Mixtures\"\n",
    "teaching: 10\n",
    "exercises: 2\n",
    "---"
   ]
  },
  {
   "cell_type": "markdown",
   "id": "ea86cf44",
   "metadata": {},
   "source": [
    "[**Download Chapter pdf**](01-gaussian.md.pdf)\n",
    "\n",
    "[**Download Chapter notebook (ipynb)**](01-gaussian.ipynb)\n",
    "\n",
    "[<span style=\"color: rgb(255, 0, 0);\">**Mandatory Lesson Feedback Survey**</span>](https://docs.google.com/forms/d/e/1FAIpQLSdr0capF7jloJhPH3Pki1B3LZoKOG16poOpuVJ7SL2LkwLHQA/viewform?pli=1)"
   ]
  },
  {
   "cell_type": "markdown",
   "id": "c9d6272c",
   "metadata": {},
   "source": [
    "- \n",
    "-\n",
    "-"
   ]
  },
  {
   "cell_type": "markdown",
   "id": "20c17eba",
   "metadata": {},
   "source": [
    "- Multiple Gaussian distributions in a dataset\n",
    "- Scikit-learn functionality for Gaussian Mixture Models\n",
    "- Automated labelling of dataset\n",
    "- Basic scoring of clustering\n",
    "\n",
    "- [Classification Introduction]()\n",
    "- [Classification Improvement]()\n"
   ]
  },
  {
   "cell_type": "markdown",
   "id": "d9dfe4d3",
   "metadata": {},
   "source": [
    "### **Import functions**\n"
   ]
  },
  {
   "cell_type": "code",
   "execution_count": null,
   "id": "5d75cb2e",
   "metadata": {},
   "outputs": [],
   "source": [
    "from numpy import arange, asarray, linspace, zeros, c_, mgrid, meshgrid, array, dot, percentile\n",
    "from numpy import histogram, cumsum, around\n",
    "from numpy import vstack, sqrt, logspace, amin, amax, equal, invert, count_nonzero\n",
    "from numpy.random import uniform, seed, randint, randn, multivariate_normal\n",
    "\n",
    "from matplotlib.pyplot import subplots, scatter, xlabel, ylabel, axis, figure, colorbar, title, show\n",
    "from matplotlib.colors import LogNorm\n",
    "\n",
    "from pandas import read_csv"
   ]
  },
  {
   "cell_type": "markdown",
   "id": "d85edb4f",
   "metadata": {},
   "source": [
    "## Example \n",
    "Import the patients data, scatter the data for Weight and Height and get a summary statistics for both.\n",
    "\n"
   ]
  },
  {
   "cell_type": "code",
   "execution_count": null,
   "id": "195ab2d0",
   "metadata": {},
   "outputs": [],
   "source": [
    "df = read_csv(\"data/patients_data.csv\") \n",
    "\n",
    "# Weigth to kg and height to cm\n",
    "pound_kg_conversion = 0.45\n",
    "inch_cm_conversion  = 2.54\n",
    "\n",
    "df['Weight'] = pound_kg_conversion*df['Weight']\n",
    "df['Height'] = inch_cm_conversion *df['Height']\n",
    "\n",
    "\n",
    "fig, ax = subplots()\n",
    "\n",
    "ax.scatter(df['Weight'], df['Height'])\n",
    "\n",
    "ax.set_xlabel('Weight (kg)', fontsize=16)\n",
    "ax.set_ylabel('Height (cm)', fontsize=16)\n",
    "\n",
    "df[['Weight', 'Height']].describe()"
   ]
  },
  {
   "cell_type": "markdown",
   "id": "9caf5ca5",
   "metadata": {},
   "source": [
    "```{.output}\n",
    "           Weight      Height\n",
    "count  100.000000  100.000000\n",
    "mean    69.300000  170.357800\n",
    "std     11.957139    7.204631\n",
    "min     49.950000  152.400000\n",
    "25%     58.837500  165.100000\n",
    "50%     64.125000  170.180000\n",
    "75%     81.112500  175.895000\n",
    "max     90.900000  182.880000\n",
    "```"
   ]
  },
  {
   "cell_type": "code",
   "execution_count": null,
   "id": "2847735b",
   "metadata": {},
   "outputs": [],
   "source": [
    "show()"
   ]
  },
  {
   "cell_type": "markdown",
   "id": "4b084cbb",
   "metadata": {},
   "source": [
    "<img src=\"fig/01-gaussian-rendered-unnamed-chunk-2-1.png\" width=\"672\" style=\"display: block; margin: auto;\" />\n",
    "\n",
    "Looking at the data, one might expect that there are two distinct groups, visually identified as two clouds separated e.g. by a vertical line at Weight $\\approx$ 70 (kg). A consequence is that the mean value of 69.3 kg (which was calculated over all samples) should better be replaced by two mean values, one for each of the clouds. Visually, these can be estimated at around 60 and 80 kg. \n",
    "\n",
    "We can make this even clearer by looking at the two individual distributions.\n"
   ]
  },
  {
   "cell_type": "code",
   "execution_count": null,
   "id": "5db1c6ac",
   "metadata": {},
   "outputs": [],
   "source": [
    "fig, ax = subplots(ncols=2)\n",
    "\n",
    "ax[0].hist(df['Weight'], bins=20);\n",
    "ax[0].set_xlabel('Weight', fontsize=16)\n",
    "ax[0].set_ylabel('Count', fontsize=16)\n",
    "\n",
    "ax[1].hist(df['Height'], bins=12);\n",
    "ax[1].set_xlabel('Height', fontsize=16);\n",
    "\n",
    "show()"
   ]
  },
  {
   "cell_type": "markdown",
   "id": "3ec228d6",
   "metadata": {},
   "source": [
    "<img src=\"fig/01-gaussian-rendered-unnamed-chunk-3-3.png\" width=\"672\" style=\"display: block; margin: auto;\" />\n",
    "\n",
    "The Weight histogram shows two distributions (at the chosen number of bins) which now also points to the two mean values as guessed above. The Height histogram is at least not compatible with the assumption of a normal distribution as would be expected for a typically noisy variable. \n",
    "\n",
    "Thus, visual inspection suggests to analyse the data in terms of more than one underlying distribution. The automated assignment of data points to distinct groups is called clustering.\n",
    "\n",
    "We now want to learn to use the Gaussian Mixture Model approach to find those groups. As we will not provide any labels for the training, this presents an example of unsupervised machine learning. Algorithms of this type of machine learning are designed to learn to optimally assign labels through training. As a result we will be able to separate a dataset into groups and be able to predict the labels of new, unlabelled data.\n",
    "\n",
    "## Gaussian Mixture Models\n",
    "\n",
    "A Gaussian Mixture Models (GMM) approach assumes that the data are composed of two or more normal distributions that may overlap. In a scatter plot that means that there is more than one maximum in the density distribution of the data (see scatter plot above). The task is to find the centres and the spread of each distribution in the mixture. The GMM algorithm thus belongs to the category of (probability) Density Estimators. You can see that another way of grouping could be to find a curve that splits the plane. \n",
    "\n",
    "The GMM assumes normally distributed data structure from _n_ sources. Other than that it does not make assumptions about the data.\n",
    "\n",
    "GMM is a parametric learning approach as it optimises the parameters of a normal distributions, i.e. the mean and the covariance matrix of each group. It is therefore an example of a model fitting method. \n",
    "\n",
    "As its name suggests, it assumes that the distribution of each group is normal. If the groups are known to be have a non-normal distribution, it may not be the optimal approach. "
   ]
  },
  {
   "cell_type": "markdown",
   "id": "4466f9f1",
   "metadata": {},
   "source": [
    "GMM is one example of clustering or [cluster analysis](https://en.wikipedia.org/wiki/Cluster_analysis).\n",
    "Whenever we suspect that a data set contains contributions of qualitatively different types, we can consider doing a cluster analysis to separate those types. However, this is a vague notion and clustering is therefore a complex field. We can only provide an introduction to its basic components. The main point to keep in mind is that the algorithms provided e.g. by scikit-learn will always give some result but that it is not easy to assess the quality of the results. Scikit-learn has a good [overview of clustering methods](https://scikit-learn.org/stable/modules/clustering.html#c) showing advantages and disadvantages of each. Here is a link to a readable introduction about the cautious application and the [pitfalls of clustering](https://stke.sciencemag.org/content/9/432/re6.full)."
   ]
  },
  {
   "cell_type": "markdown",
   "id": "9706c75f",
   "metadata": {},
   "source": [
    "## Work Through Example\n",
    "\n",
    "### **Creating test data**\n",
    "\n",
    "Let us create synthetic data for testing of the clustering algorithm. We do this according to the assumptions of GMM: we create two Gaussian data sets with different means and different standard distributions and add them together. For illustration we only use two features. \n",
    "\n",
    "The example is adapted from a [scikit-learn example](https://scikit-learn.org/stable/modules/mixture.html#mixture). It uses the concept of [covariance matrix](https://datascienceplus.com/understanding-the-covariance-matrix/) which is the extension of variance (or standard deviation) to multivariate datasets.\n"
   ]
  },
  {
   "cell_type": "code",
   "execution_count": null,
   "id": "7eab527d",
   "metadata": {},
   "outputs": [],
   "source": [
    "n_samples = 500\n",
    "m_features = 2\n",
    "\n",
    "# Seed the random number generator\n",
    "RANDOM_NUMBER = 1\n",
    "seed(RANDOM_NUMBER)\n",
    "\n",
    "# Data set 1, centered at (20, 20)\n",
    "mean_11 = 20\n",
    "mean_12 = 20\n",
    "\n",
    "gaussian_1 = randn(n_samples, m_features) + array([mean_11, mean_12])\n",
    "\n",
    "\n",
    "# Data set 2, zero centered and stretched with covariance matrix C\n",
    "C = array([[1, -0.7], [3.5, .7]])\n",
    "\n",
    "gaussian_2 = dot(randn(n_samples, m_features), C)\n",
    "\n",
    "\n",
    "# Concatenate the two Gaussians to obtain the training data set\n",
    "X_train = vstack([gaussian_1, gaussian_2])\n",
    "\n",
    "print(X_train.shape)\n",
    "\n",
    "fig, ax = subplots()\n",
    "\n",
    "ax.scatter(X_train[:, 0], X_train[:, 1]);\n",
    "\n",
    "show()"
   ]
  },
  {
   "cell_type": "markdown",
   "id": "5400b5d7",
   "metadata": {},
   "source": [
    "```{.output}\n",
    "(1000, 2)\n",
    "```\n",
    "\n",
    "<img src=\"fig/01-gaussian-rendered-unnamed-chunk-4-5.png\" width=\"672\" style=\"display: block; margin: auto;\" />\n",
    "\n",
    "The scatter plot showes that this method allows the adjustment of the centers of the distributions as well as the elliptic shape of the distribution.\n",
    "\n",
    "Now we fit a GMM. Note that the GMM needs to be told how many components one wants to fit. Modifications that estimate the optimal number of components exist but we will restrict the demonstration to the method that directly sets the number. \n",
    "\n",
    "Analogous to the classifier in supervised learning, we instantiate the model from the imported class `GaussianMixture`. The instaniation takes the number of independent data sets (clusters) as an argument. By default, the classifier tries to fit the full covariance matrix of each group. The fitting is done using the method `fit`.\n"
   ]
  },
  {
   "cell_type": "code",
   "execution_count": null,
   "id": "e4ddf6c5",
   "metadata": {},
   "outputs": [],
   "source": [
    "from sklearn.mixture import GaussianMixture\n",
    "\n",
    "# Fit a Gaussian Mixture Model with two components\n",
    "\n",
    "components = 2\n",
    "\n",
    "clf = GaussianMixture(n_components=components)\n",
    "\n",
    "clf.fit(X_train)"
   ]
  },
  {
   "cell_type": "markdown",
   "id": "7f511bdc",
   "metadata": {},
   "source": [
    "```{=html}\n",
    "<style>#sk-container-id-1 {color: black;background-color: white;}#sk-container-id-1 pre{padding: 0;}#sk-container-id-1 div.sk-toggleable {background-color: white;}#sk-container-id-1 label.sk-toggleable__label {cursor: pointer;display: block;width: 100%;margin-bottom: 0;padding: 0.3em;box-sizing: border-box;text-align: center;}#sk-container-id-1 label.sk-toggleable__label-arrow:before {content: \"▸\";float: left;margin-right: 0.25em;color: #696969;}#sk-container-id-1 label.sk-toggleable__label-arrow:hover:before {color: black;}#sk-container-id-1 div.sk-estimator:hover label.sk-toggleable__label-arrow:before {color: black;}#sk-container-id-1 div.sk-toggleable__content {max-height: 0;max-width: 0;overflow: hidden;text-align: left;background-color: #f0f8ff;}#sk-container-id-1 div.sk-toggleable__content pre {margin: 0.2em;color: black;border-radius: 0.25em;background-color: #f0f8ff;}#sk-container-id-1 input.sk-toggleable__control:checked~div.sk-toggleable__content {max-height: 200px;max-width: 100%;overflow: auto;}#sk-container-id-1 input.sk-toggleable__control:checked~label.sk-toggleable__label-arrow:before {content: \"▾\";}#sk-container-id-1 div.sk-estimator input.sk-toggleable__control:checked~label.sk-toggleable__label {background-color: #d4ebff;}#sk-container-id-1 div.sk-label input.sk-toggleable__control:checked~label.sk-toggleable__label {background-color: #d4ebff;}#sk-container-id-1 input.sk-hidden--visually {border: 0;clip: rect(1px 1px 1px 1px);clip: rect(1px, 1px, 1px, 1px);height: 1px;margin: -1px;overflow: hidden;padding: 0;position: absolute;width: 1px;}#sk-container-id-1 div.sk-estimator {font-family: monospace;background-color: #f0f8ff;border: 1px dotted black;border-radius: 0.25em;box-sizing: border-box;margin-bottom: 0.5em;}#sk-container-id-1 div.sk-estimator:hover {background-color: #d4ebff;}#sk-container-id-1 div.sk-parallel-item::after {content: \"\";width: 100%;border-bottom: 1px solid gray;flex-grow: 1;}#sk-container-id-1 div.sk-label:hover label.sk-toggleable__label {background-color: #d4ebff;}#sk-container-id-1 div.sk-serial::before {content: \"\";position: absolute;border-left: 1px solid gray;box-sizing: border-box;top: 0;bottom: 0;left: 50%;z-index: 0;}#sk-container-id-1 div.sk-serial {display: flex;flex-direction: column;align-items: center;background-color: white;padding-right: 0.2em;padding-left: 0.2em;position: relative;}#sk-container-id-1 div.sk-item {position: relative;z-index: 1;}#sk-container-id-1 div.sk-parallel {display: flex;align-items: stretch;justify-content: center;background-color: white;position: relative;}#sk-container-id-1 div.sk-item::before, #sk-container-id-1 div.sk-parallel-item::before {content: \"\";position: absolute;border-left: 1px solid gray;box-sizing: border-box;top: 0;bottom: 0;left: 50%;z-index: -1;}#sk-container-id-1 div.sk-parallel-item {display: flex;flex-direction: column;z-index: 1;position: relative;background-color: white;}#sk-container-id-1 div.sk-parallel-item:first-child::after {align-self: flex-end;width: 50%;}#sk-container-id-1 div.sk-parallel-item:last-child::after {align-self: flex-start;width: 50%;}#sk-container-id-1 div.sk-parallel-item:only-child::after {width: 0;}#sk-container-id-1 div.sk-dashed-wrapped {border: 1px dashed gray;margin: 0 0.4em 0.5em 0.4em;box-sizing: border-box;padding-bottom: 0.4em;background-color: white;}#sk-container-id-1 div.sk-label label {font-family: monospace;font-weight: bold;display: inline-block;line-height: 1.2em;}#sk-container-id-1 div.sk-label-container {text-align: center;}#sk-container-id-1 div.sk-container {/* jupyter's `normalize.less` sets `[hidden] { display: none; }` but bootstrap.min.css set `[hidden] { display: none !important; }` so we also need the `!important` here to be able to override the default hidden behavior on the sphinx rendered scikit-learn.org. See: https://github.com/scikit-learn/scikit-learn/issues/21755 */display: inline-block !important;position: relative;}#sk-container-id-1 div.sk-text-repr-fallback {display: none;}</style><div id=\"sk-container-id-1\" class=\"sk-top-container\"><div class=\"sk-text-repr-fallback\"><pre>GaussianMixture(n_components=2)</pre><b>In a Jupyter environment, please rerun this cell to show the HTML representation or trust the notebook. <br />On GitHub, the HTML representation is unable to render, please try loading this page with nbviewer.org.</b></div><div class=\"sk-container\" hidden><div class=\"sk-item\"><div class=\"sk-estimator sk-toggleable\"><input class=\"sk-toggleable__control sk-hidden--visually\" id=\"sk-estimator-id-1\" type=\"checkbox\" checked><label for=\"sk-estimator-id-1\" class=\"sk-toggleable__label sk-toggleable__label-arrow\">GaussianMixture</label><div class=\"sk-toggleable__content\"><pre>GaussianMixture(n_components=2)</pre></div></div></div></div></div>\n",
    "```\n",
    "\n",
    "After the fitting of the model, we first create a meshgrid of the (two-dimensional) state space. For each point in this state space, we obtain the predicted scores using the method `.score_samples`. These are the weighted logarithmic probabilities which show us the predicted distribution of points in the state space. \n"
   ]
  },
  {
   "cell_type": "code",
   "execution_count": null,
   "id": "5b0e8aef",
   "metadata": {},
   "outputs": [],
   "source": [
    "resolution = 100\n",
    "\n",
    "vec_a = linspace(-60., 80., resolution)\n",
    "vec_b = linspace(-40., 50., resolution)\n",
    "\n",
    "grid_a, grid_b = meshgrid(vec_a, vec_b)\n",
    "\n",
    "XY_statespace = c_[grid_a.ravel(), grid_b.ravel()]\n",
    "\n",
    "Z_score = clf.score_samples(XY_statespace)\n",
    "\n",
    "Z_s = Z_score.reshape(grid_a.shape)\n",
    "\n",
    "print(Z_s.shape)"
   ]
  },
  {
   "cell_type": "markdown",
   "id": "89f2ab83",
   "metadata": {},
   "source": [
    "```{.output}\n",
    "(100, 100)\n",
    "```"
   ]
  },
  {
   "cell_type": "markdown",
   "id": "fe535ec2",
   "metadata": {},
   "source": [
    "Now we can display the predicted scores as a contour plot. Typically, the negative log-likelihood or [density estimation](https://scikit-learn.org/stable/auto_examples/mixture/plot_gmm_pdf.html?highlight=lognorm) is used for this. In this case, the highest probabilities are shown as a landscape with two minima.\n",
    "\n"
   ]
  },
  {
   "cell_type": "code",
   "execution_count": null,
   "id": "50490ef6",
   "metadata": {},
   "outputs": [],
   "source": [
    "fig, ax = subplots(figsize=(8, 6))\n",
    "\n",
    "cax = ax.contour(grid_a, grid_b, -Z_s, \n",
    "           norm=LogNorm(vmin=1.0, vmax=1000.0),\n",
    "           levels=logspace(0, 3, 10),\n",
    "           cmap='magma'\n",
    "          )\n",
    "\n",
    "fig.colorbar(cax);\n",
    "\n",
    "ax.scatter(X_train[:, 0], X_train[:, 1], .8)\n",
    "\n",
    "title('Negative log-likelihood of Prediction', fontsize=16)\n",
    "axis('tight');\n",
    "\n",
    "show()"
   ]
  },
  {
   "cell_type": "markdown",
   "id": "08c291e9",
   "metadata": {},
   "source": [
    "<img src=\"fig/01-gaussian-rendered-unnamed-chunk-7-7.png\" width=\"768\" style=\"display: block; margin: auto;\" />\n",
    "\n",
    "You can change the number of components to see the impact it has on the result. E.g. picking 3 components:\n"
   ]
  },
  {
   "cell_type": "code",
   "execution_count": null,
   "id": "1b70c521",
   "metadata": {},
   "outputs": [],
   "source": [
    "clf_3 = GaussianMixture(n_components=3)\n",
    "\n",
    "clf_3.fit(X_train)"
   ]
  },
  {
   "cell_type": "markdown",
   "id": "ccf7bcd9",
   "metadata": {},
   "source": [
    "```{=html}\n",
    "<style>#sk-container-id-2 {color: black;background-color: white;}#sk-container-id-2 pre{padding: 0;}#sk-container-id-2 div.sk-toggleable {background-color: white;}#sk-container-id-2 label.sk-toggleable__label {cursor: pointer;display: block;width: 100%;margin-bottom: 0;padding: 0.3em;box-sizing: border-box;text-align: center;}#sk-container-id-2 label.sk-toggleable__label-arrow:before {content: \"▸\";float: left;margin-right: 0.25em;color: #696969;}#sk-container-id-2 label.sk-toggleable__label-arrow:hover:before {color: black;}#sk-container-id-2 div.sk-estimator:hover label.sk-toggleable__label-arrow:before {color: black;}#sk-container-id-2 div.sk-toggleable__content {max-height: 0;max-width: 0;overflow: hidden;text-align: left;background-color: #f0f8ff;}#sk-container-id-2 div.sk-toggleable__content pre {margin: 0.2em;color: black;border-radius: 0.25em;background-color: #f0f8ff;}#sk-container-id-2 input.sk-toggleable__control:checked~div.sk-toggleable__content {max-height: 200px;max-width: 100%;overflow: auto;}#sk-container-id-2 input.sk-toggleable__control:checked~label.sk-toggleable__label-arrow:before {content: \"▾\";}#sk-container-id-2 div.sk-estimator input.sk-toggleable__control:checked~label.sk-toggleable__label {background-color: #d4ebff;}#sk-container-id-2 div.sk-label input.sk-toggleable__control:checked~label.sk-toggleable__label {background-color: #d4ebff;}#sk-container-id-2 input.sk-hidden--visually {border: 0;clip: rect(1px 1px 1px 1px);clip: rect(1px, 1px, 1px, 1px);height: 1px;margin: -1px;overflow: hidden;padding: 0;position: absolute;width: 1px;}#sk-container-id-2 div.sk-estimator {font-family: monospace;background-color: #f0f8ff;border: 1px dotted black;border-radius: 0.25em;box-sizing: border-box;margin-bottom: 0.5em;}#sk-container-id-2 div.sk-estimator:hover {background-color: #d4ebff;}#sk-container-id-2 div.sk-parallel-item::after {content: \"\";width: 100%;border-bottom: 1px solid gray;flex-grow: 1;}#sk-container-id-2 div.sk-label:hover label.sk-toggleable__label {background-color: #d4ebff;}#sk-container-id-2 div.sk-serial::before {content: \"\";position: absolute;border-left: 1px solid gray;box-sizing: border-box;top: 0;bottom: 0;left: 50%;z-index: 0;}#sk-container-id-2 div.sk-serial {display: flex;flex-direction: column;align-items: center;background-color: white;padding-right: 0.2em;padding-left: 0.2em;position: relative;}#sk-container-id-2 div.sk-item {position: relative;z-index: 1;}#sk-container-id-2 div.sk-parallel {display: flex;align-items: stretch;justify-content: center;background-color: white;position: relative;}#sk-container-id-2 div.sk-item::before, #sk-container-id-2 div.sk-parallel-item::before {content: \"\";position: absolute;border-left: 1px solid gray;box-sizing: border-box;top: 0;bottom: 0;left: 50%;z-index: -1;}#sk-container-id-2 div.sk-parallel-item {display: flex;flex-direction: column;z-index: 1;position: relative;background-color: white;}#sk-container-id-2 div.sk-parallel-item:first-child::after {align-self: flex-end;width: 50%;}#sk-container-id-2 div.sk-parallel-item:last-child::after {align-self: flex-start;width: 50%;}#sk-container-id-2 div.sk-parallel-item:only-child::after {width: 0;}#sk-container-id-2 div.sk-dashed-wrapped {border: 1px dashed gray;margin: 0 0.4em 0.5em 0.4em;box-sizing: border-box;padding-bottom: 0.4em;background-color: white;}#sk-container-id-2 div.sk-label label {font-family: monospace;font-weight: bold;display: inline-block;line-height: 1.2em;}#sk-container-id-2 div.sk-label-container {text-align: center;}#sk-container-id-2 div.sk-container {/* jupyter's `normalize.less` sets `[hidden] { display: none; }` but bootstrap.min.css set `[hidden] { display: none !important; }` so we also need the `!important` here to be able to override the default hidden behavior on the sphinx rendered scikit-learn.org. See: https://github.com/scikit-learn/scikit-learn/issues/21755 */display: inline-block !important;position: relative;}#sk-container-id-2 div.sk-text-repr-fallback {display: none;}</style><div id=\"sk-container-id-2\" class=\"sk-top-container\"><div class=\"sk-text-repr-fallback\"><pre>GaussianMixture(n_components=3)</pre><b>In a Jupyter environment, please rerun this cell to show the HTML representation or trust the notebook. <br />On GitHub, the HTML representation is unable to render, please try loading this page with nbviewer.org.</b></div><div class=\"sk-container\" hidden><div class=\"sk-item\"><div class=\"sk-estimator sk-toggleable\"><input class=\"sk-toggleable__control sk-hidden--visually\" id=\"sk-estimator-id-2\" type=\"checkbox\" checked><label for=\"sk-estimator-id-2\" class=\"sk-toggleable__label sk-toggleable__label-arrow\">GaussianMixture</label><div class=\"sk-toggleable__content\"><pre>GaussianMixture(n_components=3)</pre></div></div></div></div></div>\n",
    "```"
   ]
  },
  {
   "cell_type": "code",
   "execution_count": null,
   "id": "b93682ba",
   "metadata": {},
   "outputs": [],
   "source": [
    "Z_score_3 = clf_3.score_samples(XY_statespace)\n",
    "\n",
    "Z_s_3 = Z_score_3.reshape(grid_a.shape)\n",
    "\n",
    "fig, ax = subplots(figsize=(8, 6))\n",
    "\n",
    "cax = ax.contour(grid_a, grid_b, -Z_s_3, \n",
    "           norm=LogNorm(vmin=1.0, vmax=1000.0),\n",
    "           levels=logspace(0, 3, 10),\n",
    "           cmap='magma'\n",
    "          )\n",
    "\n",
    "fig.colorbar(cax);\n",
    "\n",
    "title('Negative log-likelihood (3 components)', fontsize=16)\n",
    "axis('tight');\n",
    "\n",
    "show()"
   ]
  },
  {
   "cell_type": "markdown",
   "id": "0eded51a",
   "metadata": {},
   "source": [
    "<img src=\"fig/01-gaussian-rendered-unnamed-chunk-8-9.png\" width=\"768\" style=\"display: block; margin: auto;\" />\n",
    "\n",
    "For the choice of 3 components it does not lead to a probability distribution with 3 distinct maxima. This is because two of the maxima coincide or at least nearly coincide.\n",
    "\n",
    "In our example, the choice of 2 components is very obvious because as done above, we could visualise the complete state space and there was a visually discernible structure in the data. In high-dimensional data the task is difficult and while methods exist to automatically find the [optimal number of components for some clustering methods](https://en.wikipedia.org/wiki/Determining_the_number_of_clusters_in_a_data_set), the success of these depends very much on the problem."
   ]
  },
  {
   "cell_type": "markdown",
   "id": "9c8bd633",
   "metadata": {},
   "source": [
    "### **Getting optimal model parameters**\n",
    "Now that the estimator is fitted, we can obtain the optimal parameters for the fitted components. They are stored in the model attributes. We can extract (i) the `.weights_`, the share of each of the components (Gaussians) in the mixture; (ii) the `.means_`, the coordinates of the mean values; and (iii) `.covariances_`, the covariance matrix of each component.\n"
   ]
  },
  {
   "cell_type": "code",
   "execution_count": null,
   "id": "be074a1a",
   "metadata": {},
   "outputs": [],
   "source": [
    "components = 2\n",
    "\n",
    "clf = GaussianMixture(n_components=components);\n",
    "\n",
    "clf.fit(X_train)\n",
    "\n",
    "print('Model Weights: ')\n",
    "print(clf.weights_)\n",
    "print('')\n",
    "\n",
    "print('Mean coordinates: ')\n",
    "print(clf.means_)\n",
    "print('')\n",
    "print('Covariance Matrices: ')\n",
    "print(clf.covariances_)"
   ]
  },
  {
   "cell_type": "markdown",
   "id": "8a06f2dc",
   "metadata": {},
   "source": [
    "```{=html}\n",
    "<style>#sk-container-id-3 {color: black;background-color: white;}#sk-container-id-3 pre{padding: 0;}#sk-container-id-3 div.sk-toggleable {background-color: white;}#sk-container-id-3 label.sk-toggleable__label {cursor: pointer;display: block;width: 100%;margin-bottom: 0;padding: 0.3em;box-sizing: border-box;text-align: center;}#sk-container-id-3 label.sk-toggleable__label-arrow:before {content: \"▸\";float: left;margin-right: 0.25em;color: #696969;}#sk-container-id-3 label.sk-toggleable__label-arrow:hover:before {color: black;}#sk-container-id-3 div.sk-estimator:hover label.sk-toggleable__label-arrow:before {color: black;}#sk-container-id-3 div.sk-toggleable__content {max-height: 0;max-width: 0;overflow: hidden;text-align: left;background-color: #f0f8ff;}#sk-container-id-3 div.sk-toggleable__content pre {margin: 0.2em;color: black;border-radius: 0.25em;background-color: #f0f8ff;}#sk-container-id-3 input.sk-toggleable__control:checked~div.sk-toggleable__content {max-height: 200px;max-width: 100%;overflow: auto;}#sk-container-id-3 input.sk-toggleable__control:checked~label.sk-toggleable__label-arrow:before {content: \"▾\";}#sk-container-id-3 div.sk-estimator input.sk-toggleable__control:checked~label.sk-toggleable__label {background-color: #d4ebff;}#sk-container-id-3 div.sk-label input.sk-toggleable__control:checked~label.sk-toggleable__label {background-color: #d4ebff;}#sk-container-id-3 input.sk-hidden--visually {border: 0;clip: rect(1px 1px 1px 1px);clip: rect(1px, 1px, 1px, 1px);height: 1px;margin: -1px;overflow: hidden;padding: 0;position: absolute;width: 1px;}#sk-container-id-3 div.sk-estimator {font-family: monospace;background-color: #f0f8ff;border: 1px dotted black;border-radius: 0.25em;box-sizing: border-box;margin-bottom: 0.5em;}#sk-container-id-3 div.sk-estimator:hover {background-color: #d4ebff;}#sk-container-id-3 div.sk-parallel-item::after {content: \"\";width: 100%;border-bottom: 1px solid gray;flex-grow: 1;}#sk-container-id-3 div.sk-label:hover label.sk-toggleable__label {background-color: #d4ebff;}#sk-container-id-3 div.sk-serial::before {content: \"\";position: absolute;border-left: 1px solid gray;box-sizing: border-box;top: 0;bottom: 0;left: 50%;z-index: 0;}#sk-container-id-3 div.sk-serial {display: flex;flex-direction: column;align-items: center;background-color: white;padding-right: 0.2em;padding-left: 0.2em;position: relative;}#sk-container-id-3 div.sk-item {position: relative;z-index: 1;}#sk-container-id-3 div.sk-parallel {display: flex;align-items: stretch;justify-content: center;background-color: white;position: relative;}#sk-container-id-3 div.sk-item::before, #sk-container-id-3 div.sk-parallel-item::before {content: \"\";position: absolute;border-left: 1px solid gray;box-sizing: border-box;top: 0;bottom: 0;left: 50%;z-index: -1;}#sk-container-id-3 div.sk-parallel-item {display: flex;flex-direction: column;z-index: 1;position: relative;background-color: white;}#sk-container-id-3 div.sk-parallel-item:first-child::after {align-self: flex-end;width: 50%;}#sk-container-id-3 div.sk-parallel-item:last-child::after {align-self: flex-start;width: 50%;}#sk-container-id-3 div.sk-parallel-item:only-child::after {width: 0;}#sk-container-id-3 div.sk-dashed-wrapped {border: 1px dashed gray;margin: 0 0.4em 0.5em 0.4em;box-sizing: border-box;padding-bottom: 0.4em;background-color: white;}#sk-container-id-3 div.sk-label label {font-family: monospace;font-weight: bold;display: inline-block;line-height: 1.2em;}#sk-container-id-3 div.sk-label-container {text-align: center;}#sk-container-id-3 div.sk-container {/* jupyter's `normalize.less` sets `[hidden] { display: none; }` but bootstrap.min.css set `[hidden] { display: none !important; }` so we also need the `!important` here to be able to override the default hidden behavior on the sphinx rendered scikit-learn.org. See: https://github.com/scikit-learn/scikit-learn/issues/21755 */display: inline-block !important;position: relative;}#sk-container-id-3 div.sk-text-repr-fallback {display: none;}</style><div id=\"sk-container-id-3\" class=\"sk-top-container\"><div class=\"sk-text-repr-fallback\"><pre>GaussianMixture(n_components=2)</pre><b>In a Jupyter environment, please rerun this cell to show the HTML representation or trust the notebook. <br />On GitHub, the HTML representation is unable to render, please try loading this page with nbviewer.org.</b></div><div class=\"sk-container\" hidden><div class=\"sk-item\"><div class=\"sk-estimator sk-toggleable\"><input class=\"sk-toggleable__control sk-hidden--visually\" id=\"sk-estimator-id-3\" type=\"checkbox\" checked><label for=\"sk-estimator-id-3\" class=\"sk-toggleable__label sk-toggleable__label-arrow\">GaussianMixture</label><div class=\"sk-toggleable__content\"><pre>GaussianMixture(n_components=2)</pre></div></div></div></div></div>\n",
    "```\n",
    "\n",
    "```{.output}\n",
    "Model Weights: \n",
    "[0.5 0.5]\n",
    "\n",
    "Mean coordinates: \n",
    "[[ 2.00467649e+01  2.00308601e+01]\n",
    " [ 1.10681138e-01 -6.87868023e-03]]\n",
    "\n",
    "Covariance Matrices: \n",
    "[[[ 0.95442218 -0.06641459]\n",
    "  [-0.06641459  0.97019156]]\n",
    "\n",
    " [[13.78557368  1.81677876]\n",
    "  [ 1.81677876  1.04931994]]]\n",
    "```\n",
    "\n",
    "The fit returned a model where the two components have equal weight. The means and covariance matrices can be compared directly to the values chosen to create the data. They are not identical but good estimates are obtained from a fit to 500 data points in each group. "
   ]
  },
  {
   "cell_type": "markdown",
   "id": "24965951",
   "metadata": {},
   "source": [
    "### **Create data from optimal model**\n",
    "The result of the fitting are the parameters for two Gaussian distributions with two features each. These parameters can be used to create further model data with the same characteristics. In our demonstration we know the original sources but if the parameters are obtained from experimental or clinical data, it is useful to visualise the predicted distributions using as many samples as necessary. \n",
    "\n",
    "If we know the mean and the covariance matrix of a Gaussian, the function `multivariate_normal` can be used to create data from that Gaussian. \n"
   ]
  },
  {
   "cell_type": "code",
   "execution_count": null,
   "id": "e9d985a8",
   "metadata": {},
   "outputs": [],
   "source": [
    "model1_mean, model2_mean = clf.means_[0], clf.means_[1]\n",
    "model1_cov, model2_cov =  clf.covariances_[0], clf.covariances_[1]\n",
    "\n",
    "samples = 100\n",
    "\n",
    "model1_data = multivariate_normal(model1_mean, model1_cov, samples)\n",
    "model2_data = multivariate_normal(model2_mean, model2_cov, samples)\n",
    "\n",
    "fig, ax = subplots()\n",
    "\n",
    "ax.scatter(model1_data[:, 0], model1_data[:, 1], c='b');\n",
    "ax.scatter(model2_data[:, 0], model2_data[:, 1], c='r');\n",
    "\n",
    "show()"
   ]
  },
  {
   "cell_type": "markdown",
   "id": "1f1b8426",
   "metadata": {},
   "source": [
    "<img src=\"fig/01-gaussian-rendered-unnamed-chunk-10-11.png\" width=\"672\" style=\"display: block; margin: auto;\" />\n",
    "\n",
    "### **Predicting Labels**\n",
    "\n",
    "Now we can apply what we have discussed in supervised machine learning and use the trained model to predict.\n",
    "\n",
    "We can get the predictions of the group for new data. Here, for simplicity, we create test data from the same distribution as the train data. The label is obtained from the method `.predict`.\n"
   ]
  },
  {
   "cell_type": "code",
   "execution_count": null,
   "id": "eddb356f",
   "metadata": {},
   "outputs": [],
   "source": [
    "n_samples = 10\n",
    "m_features = 2\n",
    "\n",
    "# Seed the random number generator\n",
    "RANDOM_NUMBER = 111\n",
    "seed(RANDOM_NUMBER)\n",
    "\n",
    "# Data set 1, centered at (20, 20)\n",
    "\n",
    "mean_11 = 20\n",
    "mean_12 = 20\n",
    "\n",
    "gaussian_1 = randn(n_samples, m_features) + array([mean_11, mean_12])\n",
    "\n",
    "\n",
    "# Data set 2, zero centered and stretched with covariance matrix C\n",
    "\n",
    "C = array([[1, -0.7], [3.5, .7]])\n",
    "\n",
    "gaussian_2 = dot(randn(n_samples, m_features), C)\n",
    "\n",
    "\n",
    "# Concatenate the two Gaussians to obtain the training data set\n",
    "X_test = vstack([gaussian_1, gaussian_2])\n",
    "\n",
    "\n",
    "# Predict group\n",
    "y_test = clf.predict(X_test)\n",
    "\n",
    "print(y_test)"
   ]
  },
  {
   "cell_type": "markdown",
   "id": "cea95987",
   "metadata": {},
   "source": [
    "```{.output}\n",
    "[0 0 0 0 0 0 0 0 0 0 1 1 1 1 1 1 1 1 1 1]\n",
    "```\n",
    "\n",
    "For simplicity, fit and predict can be combined with the `.fit_predict` method to directly get the labels for each sample. Here is an example where we fit the model to the test data and directly extract their predicted labels.\n"
   ]
  },
  {
   "cell_type": "code",
   "execution_count": null,
   "id": "c45e82b9",
   "metadata": {},
   "outputs": [],
   "source": [
    "components = 2\n",
    "\n",
    "clf_2 = GaussianMixture(n_components=components, covariance_type='full')\n",
    "\n",
    "labels = clf_2.fit_predict(X_test)\n",
    "print(labels)"
   ]
  },
  {
   "cell_type": "markdown",
   "id": "733949ac",
   "metadata": {},
   "source": [
    "```{.output}\n",
    "[1 1 1 1 1 1 1 1 1 1 0 0 0 0 0 0 0 0 0 0]\n",
    "```\n",
    "\n",
    "The probabilities of the predictions are obtained from the method `.predict_proba`. In this case, all probabilities are 0 and 1 respectively. The model is sure about their group signature. \n"
   ]
  },
  {
   "cell_type": "code",
   "execution_count": null,
   "id": "9893d50e",
   "metadata": {},
   "outputs": [],
   "source": [
    "y_proba = clf.predict_proba(X_test)\n",
    "\n",
    "fig, ax = subplots()\n",
    "\n",
    "ax.hist(y_proba, bins=10);\n",
    "\n",
    "show()"
   ]
  },
  {
   "cell_type": "markdown",
   "id": "d372693f",
   "metadata": {},
   "source": [
    "<img src=\"fig/01-gaussian-rendered-unnamed-chunk-13-13.png\" width=\"672\" style=\"display: block; margin: auto;\" />\n",
    "\n",
    "The `.sample_` method produces individual samples from the trained model. It takes the number of required samples as an input argument and yields the sample values as well as the group for each sample. Samples for each group are given with probability according to the group weights. \n"
   ]
  },
  {
   "cell_type": "code",
   "execution_count": null,
   "id": "ad9a7339",
   "metadata": {},
   "outputs": [],
   "source": [
    "samples = clf.sample(5)\n",
    "\n",
    "print(samples[0])\n",
    "print('')\n",
    "print(samples[1])"
   ]
  },
  {
   "cell_type": "markdown",
   "id": "fb4c01aa",
   "metadata": {},
   "source": [
    "```{.output}\n",
    "[[20.06076245 20.69983729]\n",
    " [21.67317947 21.86459529]\n",
    " [ 4.90658144 -0.99981225]\n",
    " [ 4.74232451  0.2655483 ]\n",
    " [ 0.92148265  2.32782549]]\n",
    "\n",
    "[0 0 1 1 1]\n",
    "```\n",
    "\n",
    "We can now redo the example with two distributions that lie closer together, i.e. making the clustering task harder. \n"
   ]
  },
  {
   "cell_type": "code",
   "execution_count": null,
   "id": "5dff5618",
   "metadata": {},
   "outputs": [],
   "source": [
    "n_samples = 500\n",
    "m_features = 2\n",
    "\n",
    "# Seed the random number generator\n",
    "RANDOM_NUMBER = 1\n",
    "seed(RANDOM_NUMBER)\n",
    "\n",
    "# Data set 1, centered at (20, 20)\n",
    "\n",
    "mean_11 = 2\n",
    "mean_12 = 2\n",
    "\n",
    "gaussian_1 = randn(n_samples, m_features) + array([mean_11, mean_12])\n",
    "\n",
    "\n",
    "# Data set 2, zero centered and stretched with covariance matrix C\n",
    "\n",
    "C = array([[1, -0.7], [3.5, .7]])\n",
    "\n",
    "gaussian_2 = dot(randn(n_samples, m_features), C)\n",
    "\n",
    "\n",
    "# Concatenate the two Gaussians to obtain the training data set\n",
    "X_train = vstack([gaussian_1, gaussian_2])\n",
    "\n",
    "print(X_train.shape)\n",
    "\n",
    "fig, ax = subplots()\n",
    "\n",
    "ax.scatter(X_train[:, 0], X_train[:, 1]);\n",
    "\n",
    "show()"
   ]
  },
  {
   "cell_type": "markdown",
   "id": "383363e3",
   "metadata": {},
   "source": [
    "```{.output}\n",
    "(1000, 2)\n",
    "```\n",
    "\n",
    "<img src=\"fig/01-gaussian-rendered-unnamed-chunk-15-15.png\" width=\"672\" style=\"display: block; margin: auto;\" />\n",
    "    "
   ]
  },
  {
   "cell_type": "code",
   "execution_count": null,
   "id": "7321373c",
   "metadata": {},
   "outputs": [],
   "source": [
    "components = 2\n",
    "\n",
    "clf2 = GaussianMixture(n_components=components)\n",
    "\n",
    "clf2.fit(X_train)"
   ]
  },
  {
   "cell_type": "markdown",
   "id": "4a339bf5",
   "metadata": {},
   "source": [
    "```{=html}\n",
    "<style>#sk-container-id-4 {color: black;background-color: white;}#sk-container-id-4 pre{padding: 0;}#sk-container-id-4 div.sk-toggleable {background-color: white;}#sk-container-id-4 label.sk-toggleable__label {cursor: pointer;display: block;width: 100%;margin-bottom: 0;padding: 0.3em;box-sizing: border-box;text-align: center;}#sk-container-id-4 label.sk-toggleable__label-arrow:before {content: \"▸\";float: left;margin-right: 0.25em;color: #696969;}#sk-container-id-4 label.sk-toggleable__label-arrow:hover:before {color: black;}#sk-container-id-4 div.sk-estimator:hover label.sk-toggleable__label-arrow:before {color: black;}#sk-container-id-4 div.sk-toggleable__content {max-height: 0;max-width: 0;overflow: hidden;text-align: left;background-color: #f0f8ff;}#sk-container-id-4 div.sk-toggleable__content pre {margin: 0.2em;color: black;border-radius: 0.25em;background-color: #f0f8ff;}#sk-container-id-4 input.sk-toggleable__control:checked~div.sk-toggleable__content {max-height: 200px;max-width: 100%;overflow: auto;}#sk-container-id-4 input.sk-toggleable__control:checked~label.sk-toggleable__label-arrow:before {content: \"▾\";}#sk-container-id-4 div.sk-estimator input.sk-toggleable__control:checked~label.sk-toggleable__label {background-color: #d4ebff;}#sk-container-id-4 div.sk-label input.sk-toggleable__control:checked~label.sk-toggleable__label {background-color: #d4ebff;}#sk-container-id-4 input.sk-hidden--visually {border: 0;clip: rect(1px 1px 1px 1px);clip: rect(1px, 1px, 1px, 1px);height: 1px;margin: -1px;overflow: hidden;padding: 0;position: absolute;width: 1px;}#sk-container-id-4 div.sk-estimator {font-family: monospace;background-color: #f0f8ff;border: 1px dotted black;border-radius: 0.25em;box-sizing: border-box;margin-bottom: 0.5em;}#sk-container-id-4 div.sk-estimator:hover {background-color: #d4ebff;}#sk-container-id-4 div.sk-parallel-item::after {content: \"\";width: 100%;border-bottom: 1px solid gray;flex-grow: 1;}#sk-container-id-4 div.sk-label:hover label.sk-toggleable__label {background-color: #d4ebff;}#sk-container-id-4 div.sk-serial::before {content: \"\";position: absolute;border-left: 1px solid gray;box-sizing: border-box;top: 0;bottom: 0;left: 50%;z-index: 0;}#sk-container-id-4 div.sk-serial {display: flex;flex-direction: column;align-items: center;background-color: white;padding-right: 0.2em;padding-left: 0.2em;position: relative;}#sk-container-id-4 div.sk-item {position: relative;z-index: 1;}#sk-container-id-4 div.sk-parallel {display: flex;align-items: stretch;justify-content: center;background-color: white;position: relative;}#sk-container-id-4 div.sk-item::before, #sk-container-id-4 div.sk-parallel-item::before {content: \"\";position: absolute;border-left: 1px solid gray;box-sizing: border-box;top: 0;bottom: 0;left: 50%;z-index: -1;}#sk-container-id-4 div.sk-parallel-item {display: flex;flex-direction: column;z-index: 1;position: relative;background-color: white;}#sk-container-id-4 div.sk-parallel-item:first-child::after {align-self: flex-end;width: 50%;}#sk-container-id-4 div.sk-parallel-item:last-child::after {align-self: flex-start;width: 50%;}#sk-container-id-4 div.sk-parallel-item:only-child::after {width: 0;}#sk-container-id-4 div.sk-dashed-wrapped {border: 1px dashed gray;margin: 0 0.4em 0.5em 0.4em;box-sizing: border-box;padding-bottom: 0.4em;background-color: white;}#sk-container-id-4 div.sk-label label {font-family: monospace;font-weight: bold;display: inline-block;line-height: 1.2em;}#sk-container-id-4 div.sk-label-container {text-align: center;}#sk-container-id-4 div.sk-container {/* jupyter's `normalize.less` sets `[hidden] { display: none; }` but bootstrap.min.css set `[hidden] { display: none !important; }` so we also need the `!important` here to be able to override the default hidden behavior on the sphinx rendered scikit-learn.org. See: https://github.com/scikit-learn/scikit-learn/issues/21755 */display: inline-block !important;position: relative;}#sk-container-id-4 div.sk-text-repr-fallback {display: none;}</style><div id=\"sk-container-id-4\" class=\"sk-top-container\"><div class=\"sk-text-repr-fallback\"><pre>GaussianMixture(n_components=2)</pre><b>In a Jupyter environment, please rerun this cell to show the HTML representation or trust the notebook. <br />On GitHub, the HTML representation is unable to render, please try loading this page with nbviewer.org.</b></div><div class=\"sk-container\" hidden><div class=\"sk-item\"><div class=\"sk-estimator sk-toggleable\"><input class=\"sk-toggleable__control sk-hidden--visually\" id=\"sk-estimator-id-4\" type=\"checkbox\" checked><label for=\"sk-estimator-id-4\" class=\"sk-toggleable__label sk-toggleable__label-arrow\">GaussianMixture</label><div class=\"sk-toggleable__content\"><pre>GaussianMixture(n_components=2)</pre></div></div></div></div></div>\n",
    "```"
   ]
  },
  {
   "cell_type": "code",
   "execution_count": null,
   "id": "db40f258",
   "metadata": {},
   "outputs": [],
   "source": [
    "resolution = 100\n",
    "\n",
    "vec_a = linspace(-40., 60., resolution)\n",
    "vec_b = linspace(-20., 30., resolution)\n",
    "\n",
    "grid_a, grid_b = meshgrid(vec_a, vec_b)\n",
    "\n",
    "XY_statespace = c_[grid_a.ravel(), grid_b.ravel()]\n",
    "\n",
    "Z_score = clf2.score_samples(XY_statespace)\n",
    "\n",
    "Z_s = Z_score.reshape(grid_a.shape)\n",
    "\n",
    "fig, ax = subplots(figsize=(8, 6))\n",
    "\n",
    "cax = ax.contour(grid_a, grid_b, -Z_s, \n",
    "           norm=LogNorm(vmin=1.0, vmax=1000.0),\n",
    "           levels=logspace(0, 3, 10),\n",
    "           cmap='magma'\n",
    "          )\n",
    "\n",
    "fig.colorbar(cax);\n",
    "\n",
    "ax.scatter(X_train[:, 0], X_train[:, 1], .8)\n",
    "\n",
    "title('Negative log-likelihood of Prediction', fontsize=16)\n",
    "axis('tight');\n",
    "\n",
    "show()"
   ]
  },
  {
   "cell_type": "markdown",
   "id": "1b395ac1",
   "metadata": {},
   "source": [
    "<img src=\"fig/01-gaussian-rendered-unnamed-chunk-16-17.png\" width=\"768\" style=\"display: block; margin: auto;\" />\n"
   ]
  },
  {
   "cell_type": "code",
   "execution_count": null,
   "id": "86d0ef54",
   "metadata": {},
   "outputs": [],
   "source": [
    "print('Model Weights: ')\n",
    "print(clf2.weights_)\n",
    "print('')\n",
    "\n",
    "print('Mean coordinates: ')\n",
    "print(clf2.means_)\n",
    "print('')\n",
    "\n",
    "print('Covariance Matrices: ')\n",
    "print(clf2.covariances_)\n",
    "print('')\n",
    "\n",
    "y_predict = clf2.predict(X_train)\n",
    "\n",
    "print('Predicted Labels')\n",
    "print(y_predict)"
   ]
  },
  {
   "cell_type": "markdown",
   "id": "bfb81d79",
   "metadata": {},
   "source": [
    "```{.output}\n",
    "Model Weights: \n",
    "[0.51626883 0.48373117]\n",
    "\n",
    "Mean coordinates: \n",
    "[[ 2.02822009  2.0218213 ]\n",
    " [ 0.06535904 -0.06576508]]\n",
    "\n",
    "Covariance Matrices: \n",
    "[[[ 0.95990893 -0.03850552]\n",
    "  [-0.03850552  0.94445254]]\n",
    "\n",
    " [[14.15940548  1.77380246]\n",
    "  [ 1.77380246  0.97555916]]]\n",
    "\n",
    "Predicted Labels\n",
    "[0 0 1 0 0 1 0 0 0 0 0 0 0 0 0 0 0 0 0 0 0 0 0 0 0 0 0 0 0 0 0 0 0 0 1 0 0\n",
    " 1 0 0 0 0 0 0 0 0 0 0 0 0 0 0 0 0 0 0 0 0 0 0 0 0 0 0 0 0 0 0 0 0 0 0 0 0\n",
    " 0 1 0 0 0 0 0 0 0 0 1 0 1 0 0 0 0 0 0 0 0 0 0 1 0 0 0 0 1 0 0 0 0 0 0 0 0\n",
    " 0 0 0 0 0 0 0 0 0 0 0 0 0 1 0 0 0 0 0 0 0 0 0 0 0 0 0 0 0 0 0 0 0 0 0 0 0\n",
    " 0 0 1 0 0 0 0 0 0 0 0 0 0 0 0 0 0 0 0 0 1 1 0 0 0 0 0 0 0 0 0 0 0 0 0 1 0\n",
    " 0 0 0 1 0 0 0 0 0 0 0 0 0 0 0 0 0 0 1 0 0 0 1 0 1 0 0 0 0 0 0 0 0 0 0 1 0\n",
    " 0 0 0 0 0 0 0 0 0 0 0 0 0 0 0 0 1 0 0 0 0 0 0 0 0 0 1 0 0 0 0 0 0 0 0 0 0\n",
    " 0 0 0 0 0 0 0 0 0 0 0 0 0 1 0 0 0 0 0 0 0 0 0 0 0 0 0 0 0 0 0 0 0 0 0 1 0\n",
    " 0 0 0 0 0 0 0 0 0 0 0 1 0 0 1 0 0 0 0 0 0 0 0 0 0 0 0 1 0 0 0 0 0 0 1 0 0\n",
    " 0 0 0 0 0 0 0 0 0 1 0 0 0 0 0 0 0 0 0 0 0 0 1 0 0 0 0 0 0 0 0 0 0 1 0 0 1\n",
    " 0 0 0 0 0 0 0 0 0 0 0 0 1 0 0 0 0 0 0 1 0 0 1 0 0 0 0 0 0 0 0 0 0 0 0 0 0\n",
    " 0 0 0 0 0 0 0 0 0 0 0 0 0 0 0 0 0 0 0 0 0 0 0 0 0 0 0 0 1 0 0 0 0 0 0 0 0\n",
    " 0 0 0 0 1 0 0 0 0 0 0 0 0 0 0 0 0 0 0 0 0 0 0 0 0 0 0 0 0 0 0 0 0 0 0 0 0\n",
    " 0 0 0 0 0 1 0 1 0 0 0 0 0 0 0 0 0 0 0 1 1 1 0 1 1 0 1 1 1 1 1 1 1 1 1 1 1\n",
    " 1 1 0 1 1 1 1 1 1 1 1 1 1 1 1 1 1 0 1 1 1 0 1 1 1 1 1 1 1 1 1 1 1 1 1 1 0\n",
    " 0 1 1 1 1 0 0 1 1 1 1 1 1 1 0 1 1 0 1 1 1 1 0 1 1 1 1 1 1 0 1 0 1 1 1 1 0\n",
    " 1 1 1 1 1 1 1 1 0 1 1 1 1 1 1 1 1 1 0 1 1 0 1 1 1 1 1 1 1 1 1 1 1 0 1 1 1\n",
    " 0 1 1 1 1 1 1 1 1 1 1 1 1 0 1 1 1 1 1 1 1 1 1 1 0 0 0 1 1 1 1 1 1 1 1 1 1\n",
    " 1 1 1 1 1 1 1 1 1 1 1 1 0 0 1 1 0 1 1 1 1 1 1 1 1 1 1 1 1 0 1 1 1 1 1 1 1\n",
    " 1 1 1 1 1 1 1 1 1 1 1 1 0 1 1 0 1 1 1 1 1 0 1 1 1 1 1 0 1 1 1 1 0 1 1 1 1\n",
    " 1 1 1 1 1 1 1 1 1 1 1 1 0 1 1 0 1 1 1 1 1 1 1 1 1 1 1 1 1 1 1 1 1 1 1 1 0\n",
    " 1 1 1 1 1 1 0 1 1 1 1 1 1 1 1 1 1 1 1 0 1 1 1 1 1 0 1 1 0 1 1 1 1 1 1 1 1\n",
    " 1 1 1 1 1 1 1 1 1 1 0 1 0 0 0 1 1 1 1 1 1 1 1 1 1 0 1 1 1 0 1 1 1 1 0 0 1\n",
    " 1 1 1 0 1 1 1 1 1 1 1 1 0 1 1 1 0 1 1 1 1 1 1 1 1 1 1 0 1 1 0 0 1 1 1 0 1\n",
    " 1 0 1 1 1 1 1 1 1 0 1 1 0 1 1 1 1 1 1 1 0 1 1 0 1 1 1 1 1 1 1 1 1 1 1 1 1\n",
    " 1 1 1 1 0 1 1 1 1 1 1 1 1 0 1 1 1 0 1 1 1 0 1 1 1 1 1 0 1 1 1 1 1 1 1 1 1\n",
    " 1 1 1 1 1 0 1 0 1 0 1 1 1 1 1 1 1 1 1 1 1 1 1 1 1 1 1 1 1 1 1 1 1 0 1 1 1\n",
    " 1]\n",
    "```"
   ]
  },
  {
   "cell_type": "markdown",
   "id": "c02250e2",
   "metadata": {},
   "source": [
    "### **Scoring of Predictions**\n",
    "\n",
    "Knowing the origin of the data we can now compare the predicted labels with the true labels and obtain a scoring. A function provided by scikit-learn is the (adjusted or unadjusted) __Rand index__. It measures the similarity of the predicted and the true assignments. However, random assignment of labels will (by chance) lead to a number of correct predictions. To adjust for this fact and ensure that randomly assigned labels get a scoring close to zero, the function to use is `adjusted_rand_score`:\n",
    "\n"
   ]
  },
  {
   "cell_type": "code",
   "execution_count": null,
   "id": "14ac05df",
   "metadata": {},
   "outputs": [],
   "source": [
    "from sklearn.metrics.cluster import adjusted_rand_score\n",
    "\n",
    "y_true = zeros(2*n_samples)\n",
    "y_true[n_samples:] = 1\n",
    "\n",
    "scoring = adjusted_rand_score(y_true, y_predict)\n",
    "\n",
    "print(scoring)"
   ]
  },
  {
   "cell_type": "markdown",
   "id": "fddef1c9",
   "metadata": {},
   "source": [
    "```{.output}\n",
    "0.6174145036659798\n",
    "```\n",
    "\n",
    "The result shows that even though the two distributions are strongly overlapping, there is still a reasonable score based on the known ground truth.\n",
    "\n",
    "It is important to remember that the ground truth is typically not known. There are therefore also measures to score the outcome based on within-data criteria. See [internal evaluation of the wikipedia article](https://en.wikipedia.org/wiki/Cluster_analysis) for some techniques.\n",
    "\n",
    "In general, the outcome of clustering is not easy to assess with confidence and specific measures need to be developed based on additional knowledge about the source of the data. "
   ]
  },
  {
   "cell_type": "markdown",
   "id": "a5c3ca21",
   "metadata": {},
   "source": [
    "## Application to Example Data\n",
    "\n",
    "Let us now apply the GMM approach to the example at the beginning of the lesson.\n"
   ]
  },
  {
   "cell_type": "code",
   "execution_count": null,
   "id": "9e3412e9",
   "metadata": {},
   "outputs": [],
   "source": [
    "from pandas import read_csv\n",
    "\n",
    "df = read_csv(\"data/patients_data.csv\") \n",
    "\n",
    "df['Weight'] = 0.45*df['Weight']\n",
    "df['Height'] = 2.54*df['Height']\n",
    "\n",
    "X_train = df[['Weight', 'Height']]\n",
    "X_train = X_train.to_numpy()\n",
    "\n",
    "print(X_train.shape)"
   ]
  },
  {
   "cell_type": "markdown",
   "id": "d0fbc80e",
   "metadata": {},
   "source": [
    "```{.output}\n",
    "(100, 2)\n",
    "```\n",
    "\n",
    "Now we can fit the GMM classifier using the suspected number of two components.\n",
    "\n"
   ]
  },
  {
   "cell_type": "code",
   "execution_count": null,
   "id": "264126c4",
   "metadata": {},
   "outputs": [],
   "source": [
    "clf = GaussianMixture(n_components=2)\n",
    "\n",
    "clf.fit(X_train)"
   ]
  },
  {
   "cell_type": "markdown",
   "id": "83dfe6ab",
   "metadata": {},
   "source": [
    "```{=html}\n",
    "<style>#sk-container-id-5 {color: black;background-color: white;}#sk-container-id-5 pre{padding: 0;}#sk-container-id-5 div.sk-toggleable {background-color: white;}#sk-container-id-5 label.sk-toggleable__label {cursor: pointer;display: block;width: 100%;margin-bottom: 0;padding: 0.3em;box-sizing: border-box;text-align: center;}#sk-container-id-5 label.sk-toggleable__label-arrow:before {content: \"▸\";float: left;margin-right: 0.25em;color: #696969;}#sk-container-id-5 label.sk-toggleable__label-arrow:hover:before {color: black;}#sk-container-id-5 div.sk-estimator:hover label.sk-toggleable__label-arrow:before {color: black;}#sk-container-id-5 div.sk-toggleable__content {max-height: 0;max-width: 0;overflow: hidden;text-align: left;background-color: #f0f8ff;}#sk-container-id-5 div.sk-toggleable__content pre {margin: 0.2em;color: black;border-radius: 0.25em;background-color: #f0f8ff;}#sk-container-id-5 input.sk-toggleable__control:checked~div.sk-toggleable__content {max-height: 200px;max-width: 100%;overflow: auto;}#sk-container-id-5 input.sk-toggleable__control:checked~label.sk-toggleable__label-arrow:before {content: \"▾\";}#sk-container-id-5 div.sk-estimator input.sk-toggleable__control:checked~label.sk-toggleable__label {background-color: #d4ebff;}#sk-container-id-5 div.sk-label input.sk-toggleable__control:checked~label.sk-toggleable__label {background-color: #d4ebff;}#sk-container-id-5 input.sk-hidden--visually {border: 0;clip: rect(1px 1px 1px 1px);clip: rect(1px, 1px, 1px, 1px);height: 1px;margin: -1px;overflow: hidden;padding: 0;position: absolute;width: 1px;}#sk-container-id-5 div.sk-estimator {font-family: monospace;background-color: #f0f8ff;border: 1px dotted black;border-radius: 0.25em;box-sizing: border-box;margin-bottom: 0.5em;}#sk-container-id-5 div.sk-estimator:hover {background-color: #d4ebff;}#sk-container-id-5 div.sk-parallel-item::after {content: \"\";width: 100%;border-bottom: 1px solid gray;flex-grow: 1;}#sk-container-id-5 div.sk-label:hover label.sk-toggleable__label {background-color: #d4ebff;}#sk-container-id-5 div.sk-serial::before {content: \"\";position: absolute;border-left: 1px solid gray;box-sizing: border-box;top: 0;bottom: 0;left: 50%;z-index: 0;}#sk-container-id-5 div.sk-serial {display: flex;flex-direction: column;align-items: center;background-color: white;padding-right: 0.2em;padding-left: 0.2em;position: relative;}#sk-container-id-5 div.sk-item {position: relative;z-index: 1;}#sk-container-id-5 div.sk-parallel {display: flex;align-items: stretch;justify-content: center;background-color: white;position: relative;}#sk-container-id-5 div.sk-item::before, #sk-container-id-5 div.sk-parallel-item::before {content: \"\";position: absolute;border-left: 1px solid gray;box-sizing: border-box;top: 0;bottom: 0;left: 50%;z-index: -1;}#sk-container-id-5 div.sk-parallel-item {display: flex;flex-direction: column;z-index: 1;position: relative;background-color: white;}#sk-container-id-5 div.sk-parallel-item:first-child::after {align-self: flex-end;width: 50%;}#sk-container-id-5 div.sk-parallel-item:last-child::after {align-self: flex-start;width: 50%;}#sk-container-id-5 div.sk-parallel-item:only-child::after {width: 0;}#sk-container-id-5 div.sk-dashed-wrapped {border: 1px dashed gray;margin: 0 0.4em 0.5em 0.4em;box-sizing: border-box;padding-bottom: 0.4em;background-color: white;}#sk-container-id-5 div.sk-label label {font-family: monospace;font-weight: bold;display: inline-block;line-height: 1.2em;}#sk-container-id-5 div.sk-label-container {text-align: center;}#sk-container-id-5 div.sk-container {/* jupyter's `normalize.less` sets `[hidden] { display: none; }` but bootstrap.min.css set `[hidden] { display: none !important; }` so we also need the `!important` here to be able to override the default hidden behavior on the sphinx rendered scikit-learn.org. See: https://github.com/scikit-learn/scikit-learn/issues/21755 */display: inline-block !important;position: relative;}#sk-container-id-5 div.sk-text-repr-fallback {display: none;}</style><div id=\"sk-container-id-5\" class=\"sk-top-container\"><div class=\"sk-text-repr-fallback\"><pre>GaussianMixture(n_components=2)</pre><b>In a Jupyter environment, please rerun this cell to show the HTML representation or trust the notebook. <br />On GitHub, the HTML representation is unable to render, please try loading this page with nbviewer.org.</b></div><div class=\"sk-container\" hidden><div class=\"sk-item\"><div class=\"sk-estimator sk-toggleable\"><input class=\"sk-toggleable__control sk-hidden--visually\" id=\"sk-estimator-id-5\" type=\"checkbox\" checked><label for=\"sk-estimator-id-5\" class=\"sk-toggleable__label sk-toggleable__label-arrow\">GaussianMixture</label><div class=\"sk-toggleable__content\"><pre>GaussianMixture(n_components=2)</pre></div></div></div></div></div>\n",
    "```"
   ]
  },
  {
   "cell_type": "code",
   "execution_count": null,
   "id": "49982a39",
   "metadata": {},
   "outputs": [],
   "source": [
    "resolution = 100\n",
    "\n",
    "vec_a = linspace(0.8*min(X_train[:,0]), 1.2*max(X_train[:,0]), resolution)\n",
    "vec_b = linspace(0.8*min(X_train[:,1]), 1.2*max(X_train[:,1]), resolution)\n",
    "\n",
    "grid_a, grid_b = meshgrid(vec_a, vec_b)\n",
    "\n",
    "XY_statespace = c_[grid_a.ravel(), grid_b.ravel()]\n",
    "\n",
    "Z_score = clf.score_samples(XY_statespace)\n",
    "\n",
    "Z_s = Z_score.reshape(grid_a.shape)\n",
    "\n",
    "\n",
    "fig, ax = subplots(figsize=(8, 6))\n",
    "\n",
    "cax = ax.contour(grid_a, grid_b, -Z_s, \n",
    "           norm=LogNorm(vmin=1.0, vmax=1000.0),\n",
    "           levels=logspace(0, 3, 10),\n",
    "           cmap='magma'\n",
    "          )\n",
    "\n",
    "fig.colorbar(cax);\n",
    "\n",
    "ax.scatter(X_train[:, 0], X_train[:, 1], .8)\n",
    "\n",
    "title('Negative log-likelihood of Prediction', fontsize=16)\n",
    "axis('tight');\n",
    "\n",
    "show()"
   ]
  },
  {
   "cell_type": "markdown",
   "id": "ad38f0ad",
   "metadata": {},
   "source": [
    "<img src=\"fig/01-gaussian-rendered-unnamed-chunk-20-19.png\" width=\"768\" style=\"display: block; margin: auto;\" />\n",
    "\n",
    "These predictions can now be compared with labels in the data, for example the Gender. To check the outcome of the fitted model versus the gender, we obtain the predicted labels from the model. We can compoare this with the Gender labels in the data:\n"
   ]
  },
  {
   "cell_type": "code",
   "execution_count": null,
   "id": "a76b34b5",
   "metadata": {},
   "outputs": [],
   "source": [
    "y_predict = clf.predict(X_train)\n",
    "\n",
    "gender_boolean = df['Gender'] == 'Female'\n",
    "\n",
    "y_gender = gender_boolean.to_numpy()\n",
    "\n",
    "scoring = adjusted_rand_score(y_gender, y_predict)\n",
    "\n",
    "print(scoring)"
   ]
  },
  {
   "cell_type": "markdown",
   "id": "6d057533",
   "metadata": {},
   "source": [
    "```{.output}\n",
    "1.0\n",
    "```"
   ]
  },
  {
   "cell_type": "markdown",
   "id": "e707bb23",
   "metadata": {},
   "source": [
    "In this case, the predictions from the GMM coincide 100 % with the gender label in the data. The outcome is therefore perfect in both cases. \n",
    "\n",
    "We can also compare the predictions with the smoker labels:\n",
    "\n"
   ]
  },
  {
   "cell_type": "code",
   "execution_count": null,
   "id": "f75abb99",
   "metadata": {},
   "outputs": [],
   "source": [
    "y_smoker = df['Smoker']\n",
    "\n",
    "scoring = adjusted_rand_score(y_smoker, y_predict)\n",
    "\n",
    "print(scoring)"
   ]
  },
  {
   "cell_type": "markdown",
   "id": "7565d3c0",
   "metadata": {},
   "source": [
    "```{.output}\n",
    "0.039367492745118096\n",
    "```"
   ]
  },
  {
   "cell_type": "markdown",
   "id": "e98eb2a1",
   "metadata": {},
   "source": [
    "This result shows that the GMM labelling is arbitrary when compared the the smoker labels in the data.\n",
    "\n",
    "From the trained model we create the individual predicted distributions for each group.\n",
    "\n"
   ]
  },
  {
   "cell_type": "code",
   "execution_count": null,
   "id": "bda3cf60",
   "metadata": {},
   "outputs": [],
   "source": [
    "group1_mean = clf.means_[0]\n",
    "group1_cov  = clf.covariances_[0]\n",
    "\n",
    "group2_mean = clf.means_[1]\n",
    "group2_cov  = clf.covariances_[1]\n",
    "\n",
    "samples = 1000\n",
    "\n",
    "\n",
    "group1_data = multivariate_normal(group1_mean, group1_cov, samples)\n",
    "group2_data = multivariate_normal(group2_mean, group2_cov, samples)\n",
    "\n",
    "fig, ax = subplots(ncols=2, figsize=(12, 6))\n",
    "\n",
    "ax[1].scatter(group1_data[:, 0], group1_data[:, 1], c='r');\n",
    "ax[1].scatter(group2_data[:, 0], group2_data[:, 1], c='b');\n",
    "ax[1].set_xlabel('Height', fontsize=16)\n",
    "\n",
    "ax[0].scatter(df['Weight'], df['Height']);\n",
    "ax[0].set_xlabel('Height', fontsize=16)\n",
    "ax[0].set_ylabel('Weight', fontsize=16)\n",
    "\n",
    "fig.suptitle('Scatter plot from Data (left) and Model (right)', fontsize=16);\n",
    "\n",
    "show()"
   ]
  },
  {
   "cell_type": "markdown",
   "id": "7783a199",
   "metadata": {},
   "source": [
    "<img src=\"fig/01-gaussian-rendered-unnamed-chunk-23-21.png\" width=\"1152\" style=\"display: block; margin: auto;\" />\n",
    "\n",
    "## Exercises\n",
    "\n",
    "#### End of chapter Exercises\n",
    "\n",
    "Create the training and prediction workflow as above for a data set with two other features, namely: Diastole and Systole values from the 'patients_data.csv' file.\n",
    "\n",
    "1. Extract the Diastole and Systole columns.\n",
    "\n",
    "2. Use the data to fit a Gaussian model with 2 components and create a state space contour plot of the negative log likelihood with scattered data superimposed.\n",
    "\n",
    "3. Extract the model weights, the means of the two Gaussians and their corresponding covariance matrices.\n",
    "\n",
    "4. Calculate the adjusted random score for the labels 'gender' and 'smoker' in the data to estimate whether these have som overlap with the model fit.\n",
    "\n",
    "5. Compare the original scatter plot versus the model generated scatter plot. Use a total of 100 samples for the model generated data and distribute them according to the model weights.\n",
    "\n",
    "6. Repeat the plot multiple times to see how the degree of overlap in the model output changes with each choice of samples from the fitted distribution. \n",
    "\n",
    "7. Create corresponding histograms of the Diastolic and Systolic blood pressure values from data and model. Try to guess where the differences in appearance come from."
   ]
  },
  {
   "cell_type": "markdown",
   "id": "6864d529",
   "metadata": {},
   "source": [
    "The data show systematic gaps in the histogram meaning that some values do not occur (integer values only). In contrast, the model data from the random number generator can take any value. Therefore the counts per bin are generally lower for the model. "
   ]
  },
  {
   "cell_type": "markdown",
   "id": "16064b00",
   "metadata": {},
   "source": [
    "## Please check these solutions only after submitting the assignments.\n",
    "\n",
    "### Q1\n"
   ]
  },
  {
   "cell_type": "markdown",
   "id": "07ab56d1",
   "metadata": {},
   "source": [
    "-\n",
    "-\n",
    "-\n"
   ]
  },
  {
   "cell_type": "markdown",
   "id": "d72cde20",
   "metadata": {},
   "source": [
    "[r-markdown]: https://rmarkdown.rstudio.com/"
   ]
  }
 ],
 "metadata": {
  "jupytext": {
   "cell_metadata_filter": "-all",
   "main_language": "python",
   "notebook_metadata_filter": "-all"
  }
 },
 "nbformat": 4,
 "nbformat_minor": 5
}
